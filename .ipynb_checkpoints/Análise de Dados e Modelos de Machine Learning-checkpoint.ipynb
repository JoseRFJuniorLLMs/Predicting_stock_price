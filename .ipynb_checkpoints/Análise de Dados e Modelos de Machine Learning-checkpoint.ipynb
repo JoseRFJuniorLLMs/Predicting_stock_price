{
 "cells": [
  {
   "cell_type": "markdown",
   "metadata": {},
   "source": [
    "# Data Analysis And Machine Learning\n",
    "\n",
    "That's the first part of project where I'll analysis the data and apply some machine learning models to predict the stock prices. First of all I import the libraries, even I'll using the library in final of code I import it in initiation of code.\n",
    "\n",
    "First I defined the basic libraries to data analyze, them are:\n",
    "* Pandas: To data analysis and manipulation tool;\n",
    "* Numpy: To algebraic manipulation (vectors, matrices, and so on);\n",
    "* Matplotlib: To data visualization in graphs.\n",
    "\n",
    "After it I define the libraries of sklearn to metrics analysis and data preprocessing. The metric which will used is the mean squared logarithmic error, define by:\n",
    "\n",
    "<center>\n",
    "    <h2>$RMSLE = \\sqrt{\\frac{1}{N}\\sum_{n=1}^{N} (log(y_{n}+1)-log(\\hat{y}_n+1))^2}$</h2>\n",
    "</center>\n",
    "\n",
    "In words the RMSLE is the squared of variation, or standard deviation in this case, of logarithm of bias and the variation of predictor. Further I'll use MinMaxScaler to define the values in interval between 0 than 1, that's to help the model fit better than using real values.\n",
    "\n",
    "The models I'll use to start are Random Forest Regressor and LightGBM, both are very good to predict time series in general. In other notebook I'll using reccurent neural network to compare the models and see how is better.\n",
    "\n",
    "By the sklearn library documentation: A random forest is a meta estimator that fits a number of classifying decision trees on various sub-samples of the dataset and uses averaging to improve the predictive accuracy and control over-fitting. The sub-sample size is controlled with the max_samples parameter if bootstrap=True (default), otherwise the whole dataset is used to build each tree. And by the LightGBM library: LightGBM is a gradient boosting framework that uses tree based learning algorithms. It is designed to be distributed and efficient with the following advantages:\n",
    "* Faster training speed and higher efficiency.\n",
    "* Lower memory usage.\n",
    "* Better accuracy.\n",
    "* Support of parallel and GPU learning.\n",
    "* Capable of handling large-scale data.\n",
    "\n",
    "Presumably the LightGBM has a better performance than Random Forest Regressor. But It'll seen in pratice."
   ]
  },
  {
   "cell_type": "code",
   "execution_count": 1,
   "metadata": {
    "colab": {
     "base_uri": "https://localhost:8080/",
     "height": 34
    },
    "colab_type": "code",
    "executionInfo": {
     "elapsed": 1425,
     "status": "ok",
     "timestamp": 1593639469728,
     "user": {
      "displayName": "João Conte",
      "photoUrl": "https://lh3.googleusercontent.com/a-/AOh14GgHcLIcHrnZal8fGaieSjwdAY8UEr4TQc7BfW3S=s64",
      "userId": "14849391931925135559"
     },
     "user_tz": 180
    },
    "id": "bcCFBvXSNhAe",
    "outputId": "1149ecdb-e595-4914-c136-459940d11705"
   },
   "outputs": [
    {
     "name": "stdout",
     "output_type": "stream",
     "text": [
      "Populating the interactive namespace from numpy and matplotlib\n"
     ]
    }
   ],
   "source": [
    "import pandas as pd\n",
    "import numpy as np\n",
    "import matplotlib.pyplot as plt\n",
    "%pylab inline\n",
    "%matplotlib inline\n",
    "\n",
    "from sklearn.metrics import mean_squared_log_error\n",
    "from sklearn.preprocessing import MinMaxScaler\n",
    "\n",
    "\n",
    "from sklearn.ensemble import RandomForestRegressor\n",
    "import lightgbm as lgb"
   ]
  },
  {
   "cell_type": "markdown",
   "metadata": {},
   "source": [
    "______________________________\n",
    "\n",
    "Now let's import the data and see more about them, first I'll import the dataset which I downloaded in <a href=\"https://br.financas.yahoo.com/\" target=\"_blank\">Yahoo Finanças</a>.\n",
    "\n",
    "I did download the data of Itausa (ITSA4) that's a brazilian holding stock of Itau Bank, downloading of all values since when started the negotiation in stock exchange.\n",
    "\n",
    "So I like start pass my date data to datetime and see the head of dataset and the types of other values. Probably that dataset will be very clean and the clean of null values very lightfull."
   ]
  },
  {
   "cell_type": "code",
   "execution_count": 2,
   "metadata": {
    "colab": {},
    "colab_type": "code",
    "executionInfo": {
     "elapsed": 1890,
     "status": "ok",
     "timestamp": 1593639470219,
     "user": {
      "displayName": "João Conte",
      "photoUrl": "https://lh3.googleusercontent.com/a-/AOh14GgHcLIcHrnZal8fGaieSjwdAY8UEr4TQc7BfW3S=s64",
      "userId": "14849391931925135559"
     },
     "user_tz": 180
    },
    "id": "cpzS2yg-NkIB"
   },
   "outputs": [],
   "source": [
    "dados = \"/content/drive/My Drive/ColabNotebooks/Projetos Portifolio/Prevendo_valor_acoes/itausa.csv\""
   ]
  },
  {
   "cell_type": "code",
   "execution_count": 3,
   "metadata": {
    "colab": {
     "base_uri": "https://localhost:8080/",
     "height": 204
    },
    "colab_type": "code",
    "executionInfo": {
     "elapsed": 2775,
     "status": "ok",
     "timestamp": 1593639471125,
     "user": {
      "displayName": "João Conte",
      "photoUrl": "https://lh3.googleusercontent.com/a-/AOh14GgHcLIcHrnZal8fGaieSjwdAY8UEr4TQc7BfW3S=s64",
      "userId": "14849391931925135559"
     },
     "user_tz": 180
    },
    "id": "EfW-Zr1qN3dq",
    "outputId": "8422df49-c68a-494a-b494-41196651d220"
   },
   "outputs": [
    {
     "data": {
      "text/html": [
       "<div>\n",
       "<style scoped>\n",
       "    .dataframe tbody tr th:only-of-type {\n",
       "        vertical-align: middle;\n",
       "    }\n",
       "\n",
       "    .dataframe tbody tr th {\n",
       "        vertical-align: top;\n",
       "    }\n",
       "\n",
       "    .dataframe thead th {\n",
       "        text-align: right;\n",
       "    }\n",
       "</style>\n",
       "<table border=\"1\" class=\"dataframe\">\n",
       "  <thead>\n",
       "    <tr style=\"text-align: right;\">\n",
       "      <th></th>\n",
       "      <th>Date</th>\n",
       "      <th>Open</th>\n",
       "      <th>High</th>\n",
       "      <th>Low</th>\n",
       "      <th>Close</th>\n",
       "      <th>Adj Close</th>\n",
       "      <th>Volume</th>\n",
       "    </tr>\n",
       "  </thead>\n",
       "  <tbody>\n",
       "    <tr>\n",
       "      <th>0</th>\n",
       "      <td>2000-01-03</td>\n",
       "      <td>1.01835</td>\n",
       "      <td>1.14360</td>\n",
       "      <td>1.01290</td>\n",
       "      <td>1.08370</td>\n",
       "      <td>0.620248</td>\n",
       "      <td>10285107.0</td>\n",
       "    </tr>\n",
       "    <tr>\n",
       "      <th>1</th>\n",
       "      <td>2000-01-04</td>\n",
       "      <td>1.04558</td>\n",
       "      <td>1.04558</td>\n",
       "      <td>0.98023</td>\n",
       "      <td>0.98023</td>\n",
       "      <td>0.561028</td>\n",
       "      <td>12071740.0</td>\n",
       "    </tr>\n",
       "    <tr>\n",
       "      <th>2</th>\n",
       "      <td>2000-01-05</td>\n",
       "      <td>0.98568</td>\n",
       "      <td>1.06192</td>\n",
       "      <td>0.94756</td>\n",
       "      <td>1.06192</td>\n",
       "      <td>0.607783</td>\n",
       "      <td>9163033.0</td>\n",
       "    </tr>\n",
       "    <tr>\n",
       "      <th>3</th>\n",
       "      <td>2000-01-06</td>\n",
       "      <td>1.05647</td>\n",
       "      <td>1.08370</td>\n",
       "      <td>1.05102</td>\n",
       "      <td>1.07825</td>\n",
       "      <td>0.617129</td>\n",
       "      <td>23085841.0</td>\n",
       "    </tr>\n",
       "    <tr>\n",
       "      <th>4</th>\n",
       "      <td>2000-01-07</td>\n",
       "      <td>1.08914</td>\n",
       "      <td>1.10548</td>\n",
       "      <td>1.06192</td>\n",
       "      <td>1.07281</td>\n",
       "      <td>0.614016</td>\n",
       "      <td>11216095.0</td>\n",
       "    </tr>\n",
       "  </tbody>\n",
       "</table>\n",
       "</div>"
      ],
      "text/plain": [
       "         Date     Open     High      Low    Close  Adj Close      Volume\n",
       "0  2000-01-03  1.01835  1.14360  1.01290  1.08370   0.620248  10285107.0\n",
       "1  2000-01-04  1.04558  1.04558  0.98023  0.98023   0.561028  12071740.0\n",
       "2  2000-01-05  0.98568  1.06192  0.94756  1.06192   0.607783   9163033.0\n",
       "3  2000-01-06  1.05647  1.08370  1.05102  1.07825   0.617129  23085841.0\n",
       "4  2000-01-07  1.08914  1.10548  1.06192  1.07281   0.614016  11216095.0"
      ]
     },
     "execution_count": 3,
     "metadata": {
      "tags": []
     },
     "output_type": "execute_result"
    }
   ],
   "source": [
    "dados = pd.read_csv(dados)\n",
    "dados.head()"
   ]
  },
  {
   "cell_type": "code",
   "execution_count": 4,
   "metadata": {
    "colab": {
     "base_uri": "https://localhost:8080/",
     "height": 153
    },
    "colab_type": "code",
    "executionInfo": {
     "elapsed": 2756,
     "status": "ok",
     "timestamp": 1593639471128,
     "user": {
      "displayName": "João Conte",
      "photoUrl": "https://lh3.googleusercontent.com/a-/AOh14GgHcLIcHrnZal8fGaieSjwdAY8UEr4TQc7BfW3S=s64",
      "userId": "14849391931925135559"
     },
     "user_tz": 180
    },
    "id": "NetxnD1ufW63",
    "outputId": "0636787a-2c20-4575-98d1-3f3e08d0194f"
   },
   "outputs": [
    {
     "data": {
      "text/plain": [
       "Date         datetime64[ns]\n",
       "Open                float64\n",
       "High                float64\n",
       "Low                 float64\n",
       "Close               float64\n",
       "Adj Close           float64\n",
       "Volume              float64\n",
       "dtype: object"
      ]
     },
     "execution_count": 4,
     "metadata": {
      "tags": []
     },
     "output_type": "execute_result"
    }
   ],
   "source": [
    "dados['Date'] = pd.to_datetime(dados['Date'])\n",
    "dados.dtypes"
   ]
  },
  {
   "cell_type": "code",
   "execution_count": 5,
   "metadata": {
    "colab": {
     "base_uri": "https://localhost:8080/",
     "height": 153
    },
    "colab_type": "code",
    "executionInfo": {
     "elapsed": 2735,
     "status": "ok",
     "timestamp": 1593639471129,
     "user": {
      "displayName": "João Conte",
      "photoUrl": "https://lh3.googleusercontent.com/a-/AOh14GgHcLIcHrnZal8fGaieSjwdAY8UEr4TQc7BfW3S=s64",
      "userId": "14849391931925135559"
     },
     "user_tz": 180
    },
    "id": "52ojVHYSgrlA",
    "outputId": "cd67080a-88ce-4726-c20e-67a9b0bdffed"
   },
   "outputs": [
    {
     "data": {
      "text/plain": [
       "Date          0\n",
       "Open         87\n",
       "High         87\n",
       "Low          87\n",
       "Close        87\n",
       "Adj Close    87\n",
       "Volume       87\n",
       "dtype: int64"
      ]
     },
     "execution_count": 5,
     "metadata": {
      "tags": []
     },
     "output_type": "execute_result"
    }
   ],
   "source": [
    "valores_nulos = dados.isnull().sum()\n",
    "valores_nulos"
   ]
  },
  {
   "cell_type": "code",
   "execution_count": 6,
   "metadata": {
    "colab": {
     "base_uri": "https://localhost:8080/",
     "height": 34
    },
    "colab_type": "code",
    "executionInfo": {
     "elapsed": 2710,
     "status": "ok",
     "timestamp": 1593639471131,
     "user": {
      "displayName": "João Conte",
      "photoUrl": "https://lh3.googleusercontent.com/a-/AOh14GgHcLIcHrnZal8fGaieSjwdAY8UEr4TQc7BfW3S=s64",
      "userId": "14849391931925135559"
     },
     "user_tz": 180
    },
    "id": "28VvRhxuPxh-",
    "outputId": "1e6448fc-3a44-4487-ba0d-e802aab06bea"
   },
   "outputs": [
    {
     "data": {
      "text/plain": [
       "(5152, 7)"
      ]
     },
     "execution_count": 6,
     "metadata": {
      "tags": []
     },
     "output_type": "execute_result"
    }
   ],
   "source": [
    "dados.shape"
   ]
  },
  {
   "cell_type": "markdown",
   "metadata": {},
   "source": [
    "_______________________\n",
    "\n",
    "So, how could seen we have some null values, the first hypothesis who we have is that data are the mean of the values previous and next, that is in math equation:\n",
    "\n",
    "<center>\n",
    "    <h2> $val_{i} = \\frac{val_{i-1} + val_{i+1}}{2}$ </h2>\n",
    "</center>\n",
    "\n",
    "Well, first I will catch where that's null values are, and even I knowing that I'll use the close values to modeling I'll apply this concept in all columns to see the result, and to finish I'll sum the null values to see if have some more."
   ]
  },
  {
   "cell_type": "code",
   "execution_count": 7,
   "metadata": {
    "colab": {
     "base_uri": "https://localhost:8080/",
     "height": 170
    },
    "colab_type": "code",
    "executionInfo": {
     "elapsed": 2684,
     "status": "ok",
     "timestamp": 1593639471132,
     "user": {
      "displayName": "João Conte",
      "photoUrl": "https://lh3.googleusercontent.com/a-/AOh14GgHcLIcHrnZal8fGaieSjwdAY8UEr4TQc7BfW3S=s64",
      "userId": "14849391931925135559"
     },
     "user_tz": 180
    },
    "id": "fdaQmD23OiZN",
    "outputId": "faf4c9f7-82a2-4bf9-a457-2009dcab3eaf"
   },
   "outputs": [
    {
     "data": {
      "text/plain": [
       "Int64Index([ 255,  260,  278,  300,  301,  334,  346,  347,  352,  367,  378,\n",
       "             392,  395,  439,  450,  464,  479,  488,  515,  516,  520,  521,\n",
       "             539,  550,  551,  563,  584,  607,  628,  656,  749,  776,  777,\n",
       "             781,  782,  825,  826,  859,  860,  868,  903,  917, 1037, 1038,\n",
       "            1042, 1043, 1080, 1081, 1114, 1122, 1124, 1158, 1179, 1221, 1246,\n",
       "            1261, 1270, 1299, 1304, 1571, 1594, 1595, 1628, 1633, 1639, 1672,\n",
       "            1732, 1757, 1772, 1781, 1784, 2434, 2553, 2827, 2838, 2845, 2862,\n",
       "            2864, 3004, 3005, 3006, 3015, 3036, 3061, 4569, 4828, 5071],\n",
       "           dtype='int64')"
      ]
     },
     "execution_count": 7,
     "metadata": {
      "tags": []
     },
     "output_type": "execute_result"
    }
   ],
   "source": [
    "dados_nulos = dados[dados['Close'].isnull() == True].index\n",
    "dados_nulos"
   ]
  },
  {
   "cell_type": "code",
   "execution_count": 8,
   "metadata": {
    "colab": {
     "base_uri": "https://localhost:8080/",
     "height": 102
    },
    "colab_type": "code",
    "executionInfo": {
     "elapsed": 2663,
     "status": "ok",
     "timestamp": 1593639471134,
     "user": {
      "displayName": "João Conte",
      "photoUrl": "https://lh3.googleusercontent.com/a-/AOh14GgHcLIcHrnZal8fGaieSjwdAY8UEr4TQc7BfW3S=s64",
      "userId": "14849391931925135559"
     },
     "user_tz": 180
    },
    "id": "0Cr-gjbsfYuj",
    "outputId": "89cc9bea-57da-4398-95de-203d8e71ff17"
   },
   "outputs": [
    {
     "name": "stderr",
     "output_type": "stream",
     "text": [
      "/usr/local/lib/python3.6/dist-packages/pandas/core/indexing.py:671: SettingWithCopyWarning: \n",
      "A value is trying to be set on a copy of a slice from a DataFrame\n",
      "\n",
      "See the caveats in the documentation: https://pandas.pydata.org/pandas-docs/stable/user_guide/indexing.html#returning-a-view-versus-a-copy\n",
      "  self._setitem_with_indexer(indexer, value)\n"
     ]
    }
   ],
   "source": [
    "for i in dados_nulos:\n",
    "    ope = ((dados['Open'].iloc[i-1] + dados['Open'].iloc[i-1]) / 2)\n",
    "    high = ((dados['High'].iloc[i-1] + dados['High'].iloc[i-1]) / 2)\n",
    "    low = ((dados['Low'].iloc[i-1] + dados['Low'].iloc[i-1]) / 2)\n",
    "    close = ((dados['Close'].iloc[i-1] + dados['Close'].iloc[i-1]) / 2)\n",
    "    aclose = ((dados['Adj Close'].iloc[i-1] + dados['Adj Close'].iloc[i-1]) / 2)\n",
    "    volume = ((dados['Volume'].iloc[i-1] + dados['Volume'].iloc[i-1]) / 2)\n",
    "\n",
    "    dados['Open'].iloc[i] = ope\n",
    "    dados['High'].iloc[i] = high\n",
    "    dados['Low'].iloc[i] = low\n",
    "    dados['Close'].iloc[i] = close\n",
    "    dados['Adj Close'].iloc[i] = aclose\n",
    "    dados['Volume'].iloc[i] = volume"
   ]
  },
  {
   "cell_type": "code",
   "execution_count": 9,
   "metadata": {
    "colab": {
     "base_uri": "https://localhost:8080/",
     "height": 153
    },
    "colab_type": "code",
    "executionInfo": {
     "elapsed": 2643,
     "status": "ok",
     "timestamp": 1593639471135,
     "user": {
      "displayName": "João Conte",
      "photoUrl": "https://lh3.googleusercontent.com/a-/AOh14GgHcLIcHrnZal8fGaieSjwdAY8UEr4TQc7BfW3S=s64",
      "userId": "14849391931925135559"
     },
     "user_tz": 180
    },
    "id": "XVVs-m_siWxI",
    "outputId": "bf36d9df-3ff3-42f2-89e8-8504f61af8dc"
   },
   "outputs": [
    {
     "data": {
      "text/plain": [
       "Date         0\n",
       "Open         0\n",
       "High         0\n",
       "Low          0\n",
       "Close        0\n",
       "Adj Close    0\n",
       "Volume       0\n",
       "dtype: int64"
      ]
     },
     "execution_count": 9,
     "metadata": {
      "tags": []
     },
     "output_type": "execute_result"
    }
   ],
   "source": [
    "dados.isnull().sum()"
   ]
  },
  {
   "cell_type": "markdown",
   "metadata": {},
   "source": [
    "___________________\n",
    "\n"
   ]
  },
  {
   "cell_type": "code",
   "execution_count": 10,
   "metadata": {
    "colab": {},
    "colab_type": "code",
    "executionInfo": {
     "elapsed": 2625,
     "status": "ok",
     "timestamp": 1593639471137,
     "user": {
      "displayName": "João Conte",
      "photoUrl": "https://lh3.googleusercontent.com/a-/AOh14GgHcLIcHrnZal8fGaieSjwdAY8UEr4TQc7BfW3S=s64",
      "userId": "14849391931925135559"
     },
     "user_tz": 180
    },
    "id": "KiVPnaZofndp"
   },
   "outputs": [],
   "source": [
    "dados.drop(['High', 'Low', 'Open', 'Adj Close'], axis = 1, inplace=True)"
   ]
  },
  {
   "cell_type": "code",
   "execution_count": 11,
   "metadata": {
    "colab": {},
    "colab_type": "code",
    "executionInfo": {
     "elapsed": 2610,
     "status": "ok",
     "timestamp": 1593639471138,
     "user": {
      "displayName": "João Conte",
      "photoUrl": "https://lh3.googleusercontent.com/a-/AOh14GgHcLIcHrnZal8fGaieSjwdAY8UEr4TQc7BfW3S=s64",
      "userId": "14849391931925135559"
     },
     "user_tz": 180
    },
    "id": "h0NdrA90ZaVO"
   },
   "outputs": [],
   "source": [
    "listofNum = list(filter(lambda i: i%200==0, [a for a in range(dados.shape[0])]))\n",
    "x = dados['Date'].iloc[listofNum]\n",
    "x = x.append(dados['Date'].tail(1))\n",
    "x = np.array(x)"
   ]
  },
  {
   "cell_type": "code",
   "execution_count": 12,
   "metadata": {
    "colab": {
     "base_uri": "https://localhost:8080/",
     "height": 590
    },
    "colab_type": "code",
    "executionInfo": {
     "elapsed": 2592,
     "status": "ok",
     "timestamp": 1593639471139,
     "user": {
      "displayName": "João Conte",
      "photoUrl": "https://lh3.googleusercontent.com/a-/AOh14GgHcLIcHrnZal8fGaieSjwdAY8UEr4TQc7BfW3S=s64",
      "userId": "14849391931925135559"
     },
     "user_tz": 180
    },
    "id": "hqUgRDr4fu8z",
    "outputId": "ec5524ed-6b6b-4c20-beae-7a50b56d3f71"
   },
   "outputs": [
    {
     "name": "stderr",
     "output_type": "stream",
     "text": [
      "/usr/local/lib/python3.6/dist-packages/ipykernel_launcher.py:3: MatplotlibDeprecationWarning: Adding an axes using the same arguments as a previous axes currently reuses the earlier instance.  In a future version, a new instance will always be created and returned.  Meanwhile, this warning can be suppressed, and the future behavior ensured, by passing a unique label to each axes instance.\n",
      "  This is separate from the ipykernel package so we can avoid doing imports until\n",
      "/usr/local/lib/python3.6/dist-packages/ipykernel_launcher.py:4: MatplotlibDeprecationWarning: Adding an axes using the same arguments as a previous axes currently reuses the earlier instance.  In a future version, a new instance will always be created and returned.  Meanwhile, this warning can be suppressed, and the future behavior ensured, by passing a unique label to each axes instance.\n",
      "  after removing the cwd from sys.path.\n"
     ]
    },
    {
     "data": {
      "image/png": "[encoded data removed]",
      "text/plain": [
       "<Figure size 864x576 with 1 Axes>"
      ]
     },
     "metadata": {
      "needs_background": "light",
      "tags": []
     },
     "output_type": "display_data"
    }
   ],
   "source": [
    "dados.plot(x='Date', y='Close', figsize=(12,8))   \n",
    "plt.xticks(x, rotation='vertical')\n",
    "plt.axes().yaxis.grid()\n",
    "plt.axes().xaxis.grid()\n",
    "plt.show()"
   ]
  },
  {
   "cell_type": "code",
   "execution_count": 13,
   "metadata": {
    "colab": {
     "base_uri": "https://localhost:8080/",
     "height": 204
    },
    "colab_type": "code",
    "executionInfo": {
     "elapsed": 3163,
     "status": "ok",
     "timestamp": 1593639471733,
     "user": {
      "displayName": "João Conte",
      "photoUrl": "https://lh3.googleusercontent.com/a-/AOh14GgHcLIcHrnZal8fGaieSjwdAY8UEr4TQc7BfW3S=s64",
      "userId": "14849391931925135559"
     },
     "user_tz": 180
    },
    "id": "l-i7eJm6L9jb",
    "outputId": "67ebadd0-727e-43d4-e5d9-ce60e2690fcc"
   },
   "outputs": [
    {
     "data": {
      "text/html": [
       "<div>\n",
       "<style scoped>\n",
       "    .dataframe tbody tr th:only-of-type {\n",
       "        vertical-align: middle;\n",
       "    }\n",
       "\n",
       "    .dataframe tbody tr th {\n",
       "        vertical-align: top;\n",
       "    }\n",
       "\n",
       "    .dataframe thead th {\n",
       "        text-align: right;\n",
       "    }\n",
       "</style>\n",
       "<table border=\"1\" class=\"dataframe\">\n",
       "  <thead>\n",
       "    <tr style=\"text-align: right;\">\n",
       "      <th></th>\n",
       "      <th>Date</th>\n",
       "      <th>Close</th>\n",
       "      <th>Volume</th>\n",
       "    </tr>\n",
       "  </thead>\n",
       "  <tbody>\n",
       "    <tr>\n",
       "      <th>0</th>\n",
       "      <td>2000-01-03</td>\n",
       "      <td>0.024038</td>\n",
       "      <td>0.071490</td>\n",
       "    </tr>\n",
       "    <tr>\n",
       "      <th>1</th>\n",
       "      <td>2000-01-04</td>\n",
       "      <td>0.016426</td>\n",
       "      <td>0.083908</td>\n",
       "    </tr>\n",
       "    <tr>\n",
       "      <th>2</th>\n",
       "      <td>2000-01-05</td>\n",
       "      <td>0.022436</td>\n",
       "      <td>0.063690</td>\n",
       "    </tr>\n",
       "    <tr>\n",
       "      <th>3</th>\n",
       "      <td>2000-01-06</td>\n",
       "      <td>0.023637</td>\n",
       "      <td>0.160465</td>\n",
       "    </tr>\n",
       "    <tr>\n",
       "      <th>4</th>\n",
       "      <td>2000-01-07</td>\n",
       "      <td>0.023237</td>\n",
       "      <td>0.077961</td>\n",
       "    </tr>\n",
       "  </tbody>\n",
       "</table>\n",
       "</div>"
      ],
      "text/plain": [
       "        Date     Close    Volume\n",
       "0 2000-01-03  0.024038  0.071490\n",
       "1 2000-01-04  0.016426  0.083908\n",
       "2 2000-01-05  0.022436  0.063690\n",
       "3 2000-01-06  0.023637  0.160465\n",
       "4 2000-01-07  0.023237  0.077961"
      ]
     },
     "execution_count": 13,
     "metadata": {
      "tags": []
     },
     "output_type": "execute_result"
    }
   ],
   "source": [
    "date = dados['Date']\n",
    "x_val = dados[['Close','Volume']].values\n",
    "normalizer = MinMaxScaler(feature_range=(0,1))\n",
    "x_scaled = normalizer.fit_transform(x_val)\n",
    "data = pd.DataFrame(x_scaled)\n",
    "data = pd.concat([date, data], axis=1)\n",
    "data.columns = dados.columns\n",
    "data.head()"
   ]
  },
  {
   "cell_type": "code",
   "execution_count": 14,
   "metadata": {
    "colab": {
     "base_uri": "https://localhost:8080/",
     "height": 85
    },
    "colab_type": "code",
    "executionInfo": {
     "elapsed": 3143,
     "status": "ok",
     "timestamp": 1593639471735,
     "user": {
      "displayName": "João Conte",
      "photoUrl": "https://lh3.googleusercontent.com/a-/AOh14GgHcLIcHrnZal8fGaieSjwdAY8UEr4TQc7BfW3S=s64",
      "userId": "14849391931925135559"
     },
     "user_tz": 180
    },
    "id": "hC-T52ALmTgP",
    "outputId": "7dd56589-e7fa-4a78-c118-d4f64b1b7df2"
   },
   "outputs": [
    {
     "data": {
      "text/plain": [
       "Date      datetime64[ns]\n",
       "Close            float64\n",
       "Volume           float64\n",
       "dtype: object"
      ]
     },
     "execution_count": 14,
     "metadata": {
      "tags": []
     },
     "output_type": "execute_result"
    }
   ],
   "source": [
    "dados.dtypes"
   ]
  },
  {
   "cell_type": "code",
   "execution_count": 15,
   "metadata": {
    "colab": {
     "base_uri": "https://localhost:8080/",
     "height": 590
    },
    "colab_type": "code",
    "executionInfo": {
     "elapsed": 3123,
     "status": "ok",
     "timestamp": 1593639471737,
     "user": {
      "displayName": "João Conte",
      "photoUrl": "https://lh3.googleusercontent.com/a-/AOh14GgHcLIcHrnZal8fGaieSjwdAY8UEr4TQc7BfW3S=s64",
      "userId": "14849391931925135559"
     },
     "user_tz": 180
    },
    "id": "Ybgo_EARgele",
    "outputId": "fb4fcabd-c91d-4e9b-c31f-46e2ad9a4fd4"
   },
   "outputs": [
    {
     "name": "stderr",
     "output_type": "stream",
     "text": [
      "/usr/local/lib/python3.6/dist-packages/ipykernel_launcher.py:8: MatplotlibDeprecationWarning: Adding an axes using the same arguments as a previous axes currently reuses the earlier instance.  In a future version, a new instance will always be created and returned.  Meanwhile, this warning can be suppressed, and the future behavior ensured, by passing a unique label to each axes instance.\n",
      "  \n",
      "/usr/local/lib/python3.6/dist-packages/ipykernel_launcher.py:9: MatplotlibDeprecationWarning: Adding an axes using the same arguments as a previous axes currently reuses the earlier instance.  In a future version, a new instance will always be created and returned.  Meanwhile, this warning can be suppressed, and the future behavior ensured, by passing a unique label to each axes instance.\n",
      "  if __name__ == '__main__':\n"
     ]
    },
    {
     "data": {
      "image/png": "[encoded data removed]",
      "text/plain": [
       "<Figure size 864x576 with 1 Axes>"
      ]
     },
     "metadata": {
      "needs_background": "light",
      "tags": []
     },
     "output_type": "display_data"
    }
   ],
   "source": [
    "def target_diff(x):\n",
    "    return x.diff().shift(-1)\n",
    "\n",
    "dados['Diff_close_next_week'] = target_diff(dados['Close'])\n",
    "\n",
    "dados.plot(x='Date', y='Diff_close_next_week', figsize=(12,8))   \n",
    "plt.xticks(x, rotation='vertical')\n",
    "plt.axes().yaxis.grid()\n",
    "plt.axes().xaxis.grid()\n",
    "plt.show()"
   ]
  },
  {
   "cell_type": "code",
   "execution_count": 43,
   "metadata": {
    "colab": {
     "base_uri": "https://localhost:8080/",
     "height": 34
    },
    "colab_type": "code",
    "executionInfo": {
     "elapsed": 513,
     "status": "ok",
     "timestamp": 1593639896251,
     "user": {
      "displayName": "João Conte",
      "photoUrl": "https://lh3.googleusercontent.com/a-/AOh14GgHcLIcHrnZal8fGaieSjwdAY8UEr4TQc7BfW3S=s64",
      "userId": "14849391931925135559"
     },
     "user_tz": 180
    },
    "id": "-SJNihGDSAIK",
    "outputId": "6442a1ea-05d3-4b88-ede8-475ba9ef36e1"
   },
   "outputs": [
    {
     "data": {
      "text/plain": [
       "((2400, 4), (2752, 4))"
      ]
     },
     "execution_count": 43,
     "metadata": {
      "tags": []
     },
     "output_type": "execute_result"
    }
   ],
   "source": [
    "train = dados[dados['Date'] < '2009-05-21'].copy()\n",
    "valid = dados[dados['Date'] >= '2009-05-21'].copy()\n",
    "train.shape, valid.shape"
   ]
  },
  {
   "cell_type": "code",
   "execution_count": 44,
   "metadata": {
    "colab": {},
    "colab_type": "code",
    "executionInfo": {
     "elapsed": 573,
     "status": "ok",
     "timestamp": 1593639904124,
     "user": {
      "displayName": "João Conte",
      "photoUrl": "https://lh3.googleusercontent.com/a-/AOh14GgHcLIcHrnZal8fGaieSjwdAY8UEr4TQc7BfW3S=s64",
      "userId": "14849391931925135559"
     },
     "user_tz": 180
    },
    "id": "BTQDIhaJSfnS"
   },
   "outputs": [],
   "source": [
    "y_treino = train['Close']\n",
    "y_valid = valid['Close']"
   ]
  },
  {
   "cell_type": "code",
   "execution_count": 45,
   "metadata": {
    "colab": {},
    "colab_type": "code",
    "executionInfo": {
     "elapsed": 1068,
     "status": "ok",
     "timestamp": 1593639905659,
     "user": {
      "displayName": "João Conte",
      "photoUrl": "https://lh3.googleusercontent.com/a-/AOh14GgHcLIcHrnZal8fGaieSjwdAY8UEr4TQc7BfW3S=s64",
      "userId": "14849391931925135559"
     },
     "user_tz": 180
    },
    "id": "y_ErTucCkgOo"
   },
   "outputs": [],
   "source": [
    "#baseline\n",
    "baseline_treino = train['Close'].shift(1)\n",
    "baseline_valid = valid['Close'].shift(1)\n",
    "train['baseline'] = baseline_treino\n",
    "valid['baseline'] = baseline_valid"
   ]
  },
  {
   "cell_type": "code",
   "execution_count": 46,
   "metadata": {
    "colab": {
     "base_uri": "https://localhost:8080/",
     "height": 34
    },
    "colab_type": "code",
    "executionInfo": {
     "elapsed": 622,
     "status": "ok",
     "timestamp": 1593639905661,
     "user": {
      "displayName": "João Conte",
      "photoUrl": "https://lh3.googleusercontent.com/a-/AOh14GgHcLIcHrnZal8fGaieSjwdAY8UEr4TQc7BfW3S=s64",
      "userId": "14849391931925135559"
     },
     "user_tz": 180
    },
    "id": "yaIv-tigSbqe",
    "outputId": "cd606dd1-c1e4-4426-b1ab-1087ae7b259d"
   },
   "outputs": [
    {
     "name": "stdout",
     "output_type": "stream",
     "text": [
      "Erro: 1.74 %\n"
     ]
    }
   ],
   "source": [
    "print(\"Erro:\",round(np.sqrt(mean_squared_log_error(y_valid[baseline_valid.notnull()], \n",
    "                            baseline_valid[baseline_valid.notnull()]))*100, 2),\"%\")"
   ]
  },
  {
   "cell_type": "code",
   "execution_count": 47,
   "metadata": {
    "colab": {},
    "colab_type": "code",
    "executionInfo": {
     "elapsed": 514,
     "status": "ok",
     "timestamp": 1593639905978,
     "user": {
      "displayName": "João Conte",
      "photoUrl": "https://lh3.googleusercontent.com/a-/AOh14GgHcLIcHrnZal8fGaieSjwdAY8UEr4TQc7BfW3S=s64",
      "userId": "14849391931925135559"
     },
     "user_tz": 180
    },
    "id": "vTb4Y3lSTwe8"
   },
   "outputs": [],
   "source": [
    "train['Day'] = train['Date'].dt.day\n",
    "train['Mouth'] = train['Date'].dt.month\n",
    "train['Weeks_day'] = train['Date'].dt.weekday\n",
    "train.drop('baseline', axis = 1, inplace=True)"
   ]
  },
  {
   "cell_type": "code",
   "execution_count": 48,
   "metadata": {
    "colab": {},
    "colab_type": "code",
    "executionInfo": {
     "elapsed": 477,
     "status": "ok",
     "timestamp": 1593639906576,
     "user": {
      "displayName": "João Conte",
      "photoUrl": "https://lh3.googleusercontent.com/a-/AOh14GgHcLIcHrnZal8fGaieSjwdAY8UEr4TQc7BfW3S=s64",
      "userId": "14849391931925135559"
     },
     "user_tz": 180
    },
    "id": "tah2VQHITveO"
   },
   "outputs": [],
   "source": [
    "valid['Day'] = valid['Date'].dt.day\n",
    "valid['Mouth'] = valid['Date'].dt.month\n",
    "valid['Weeks_day'] = valid['Date'].dt.weekday\n",
    "valid.drop('baseline', axis = 1, inplace=True)"
   ]
  },
  {
   "cell_type": "code",
   "execution_count": 49,
   "metadata": {
    "colab": {},
    "colab_type": "code",
    "executionInfo": {
     "elapsed": 602,
     "status": "ok",
     "timestamp": 1593639907311,
     "user": {
      "displayName": "João Conte",
      "photoUrl": "https://lh3.googleusercontent.com/a-/AOh14GgHcLIcHrnZal8fGaieSjwdAY8UEr4TQc7BfW3S=s64",
      "userId": "14849391931925135559"
     },
     "user_tz": 180
    },
    "id": "GrIKWaSagOZ5"
   },
   "outputs": [],
   "source": [
    "for i in range(0, 14):\n",
    "    train['Average_close_price_{}'.format(i)] = train['Close'].shift(i)\n",
    "    valid['Average_close_price_{}'.format(i)] = valid['Close'].shift(i)"
   ]
  },
  {
   "cell_type": "code",
   "execution_count": 50,
   "metadata": {
    "colab": {},
    "colab_type": "code",
    "executionInfo": {
     "elapsed": 383,
     "status": "ok",
     "timestamp": 1593639907598,
     "user": {
      "displayName": "João Conte",
      "photoUrl": "https://lh3.googleusercontent.com/a-/AOh14GgHcLIcHrnZal8fGaieSjwdAY8UEr4TQc7BfW3S=s64",
      "userId": "14849391931925135559"
     },
     "user_tz": 180
    },
    "id": "z8UCL0imtTq6"
   },
   "outputs": [],
   "source": [
    "for i in range(1, 14):\n",
    "    train['Diff_avarage_close_price_{}'.format(i)] = train['Close'].diff(i)\n",
    "    valid['Diff_avarage_close_price_{}'.format(i)] = valid['Close'].diff(i)"
   ]
  },
  {
   "cell_type": "code",
   "execution_count": 51,
   "metadata": {
    "colab": {},
    "colab_type": "code",
    "executionInfo": {
     "elapsed": 463,
     "status": "ok",
     "timestamp": 1593639908330,
     "user": {
      "displayName": "João Conte",
      "photoUrl": "https://lh3.googleusercontent.com/a-/AOh14GgHcLIcHrnZal8fGaieSjwdAY8UEr4TQc7BfW3S=s64",
      "userId": "14849391931925135559"
     },
     "user_tz": 180
    },
    "id": "cTBLe_DIt1WS"
   },
   "outputs": [],
   "source": [
    "for i in range(2, 14):\n",
    "    train['Moving_avarage_close_price_{}_weeks'.format(i)] = train['Close'].rolling(i).mean().reset_index(level=0, drop=True)\n",
    "    valid['Moving_avarage_close_price_{}_weeks'.format(i)] = valid['Close'].rolling(i).mean().reset_index(level=0, drop=True)"
   ]
  },
  {
   "cell_type": "code",
   "execution_count": 52,
   "metadata": {
    "colab": {},
    "colab_type": "code",
    "executionInfo": {
     "elapsed": 474,
     "status": "ok",
     "timestamp": 1593639910015,
     "user": {
      "displayName": "João Conte",
      "photoUrl": "https://lh3.googleusercontent.com/a-/AOh14GgHcLIcHrnZal8fGaieSjwdAY8UEr4TQc7BfW3S=s64",
      "userId": "14849391931925135559"
     },
     "user_tz": 180
    },
    "id": "LH9uc7O1xGnS"
   },
   "outputs": [],
   "source": [
    "train = train.dropna()\n",
    "valid = valid.dropna()"
   ]
  },
  {
   "cell_type": "code",
   "execution_count": 26,
   "metadata": {
    "colab": {
     "base_uri": "https://localhost:8080/",
     "height": 309
    },
    "colab_type": "code",
    "executionInfo": {
     "elapsed": 2947,
     "status": "ok",
     "timestamp": 1593639471754,
     "user": {
      "displayName": "João Conte",
      "photoUrl": "https://lh3.googleusercontent.com/a-/AOh14GgHcLIcHrnZal8fGaieSjwdAY8UEr4TQc7BfW3S=s64",
      "userId": "14849391931925135559"
     },
     "user_tz": 180
    },
    "id": "bV5aUQoLgOln",
    "outputId": "713b66df-1a96-4a8e-9e57-a6bb359da165"
   },
   "outputs": [
    {
     "data": {
      "text/html": [
       "<div>\n",
       "<style scoped>\n",
       "    .dataframe tbody tr th:only-of-type {\n",
       "        vertical-align: middle;\n",
       "    }\n",
       "\n",
       "    .dataframe tbody tr th {\n",
       "        vertical-align: top;\n",
       "    }\n",
       "\n",
       "    .dataframe thead th {\n",
       "        text-align: right;\n",
       "    }\n",
       "</style>\n",
       "<table border=\"1\" class=\"dataframe\">\n",
       "  <thead>\n",
       "    <tr style=\"text-align: right;\">\n",
       "      <th></th>\n",
       "      <th>Date</th>\n",
       "      <th>Close</th>\n",
       "      <th>Volume</th>\n",
       "      <th>Diff_close_next_week</th>\n",
       "      <th>Day</th>\n",
       "      <th>Mouth</th>\n",
       "      <th>Weeks_day</th>\n",
       "      <th>Average_close_price_0</th>\n",
       "      <th>Average_close_price_1</th>\n",
       "      <th>Average_close_price_2</th>\n",
       "      <th>Average_close_price_3</th>\n",
       "      <th>Average_close_price_4</th>\n",
       "      <th>Average_close_price_5</th>\n",
       "      <th>Average_close_price_6</th>\n",
       "      <th>Average_close_price_7</th>\n",
       "      <th>Average_close_price_8</th>\n",
       "      <th>Average_close_price_9</th>\n",
       "      <th>Average_close_price_10</th>\n",
       "      <th>Average_close_price_11</th>\n",
       "      <th>Average_close_price_12</th>\n",
       "      <th>Average_close_price_13</th>\n",
       "      <th>Diff_avarage_close_price_1</th>\n",
       "      <th>Diff_avarage_close_price_2</th>\n",
       "      <th>Diff_avarage_close_price_3</th>\n",
       "      <th>Diff_avarage_close_price_4</th>\n",
       "      <th>Diff_avarage_close_price_5</th>\n",
       "      <th>Diff_avarage_close_price_6</th>\n",
       "      <th>Diff_avarage_close_price_7</th>\n",
       "      <th>Diff_avarage_close_price_8</th>\n",
       "      <th>Diff_avarage_close_price_9</th>\n",
       "      <th>Diff_avarage_close_price_10</th>\n",
       "      <th>Diff_avarage_close_price_11</th>\n",
       "      <th>Diff_avarage_close_price_12</th>\n",
       "      <th>Diff_avarage_close_price_13</th>\n",
       "      <th>Moving_avarage_close_price_2_weeks</th>\n",
       "      <th>Moving_avarage_close_price_3_weeks</th>\n",
       "      <th>Moving_avarage_close_price_4_weeks</th>\n",
       "      <th>Moving_avarage_close_price_5_weeks</th>\n",
       "      <th>Moving_avarage_close_price_6_weeks</th>\n",
       "      <th>Moving_avarage_close_price_7_weeks</th>\n",
       "      <th>Moving_avarage_close_price_8_weeks</th>\n",
       "      <th>Moving_avarage_close_price_9_weeks</th>\n",
       "      <th>Moving_avarage_close_price_10_weeks</th>\n",
       "      <th>Moving_avarage_close_price_11_weeks</th>\n",
       "      <th>Moving_avarage_close_price_12_weeks</th>\n",
       "      <th>Moving_avarage_close_price_13_weeks</th>\n",
       "    </tr>\n",
       "  </thead>\n",
       "  <tbody>\n",
       "    <tr>\n",
       "      <th>13</th>\n",
       "      <td>2000-01-20</td>\n",
       "      <td>1.04558</td>\n",
       "      <td>4388714.0</td>\n",
       "      <td>-0.02178</td>\n",
       "      <td>20</td>\n",
       "      <td>1</td>\n",
       "      <td>3</td>\n",
       "      <td>1.04558</td>\n",
       "      <td>1.06736</td>\n",
       "      <td>1.07825</td>\n",
       "      <td>1.10548</td>\n",
       "      <td>1.06736</td>\n",
       "      <td>1.06192</td>\n",
       "      <td>1.08370</td>\n",
       "      <td>1.10548</td>\n",
       "      <td>1.11093</td>\n",
       "      <td>1.07281</td>\n",
       "      <td>1.07825</td>\n",
       "      <td>1.06192</td>\n",
       "      <td>0.98023</td>\n",
       "      <td>1.08370</td>\n",
       "      <td>-0.02178</td>\n",
       "      <td>-0.03267</td>\n",
       "      <td>-0.05990</td>\n",
       "      <td>-0.02178</td>\n",
       "      <td>-0.01634</td>\n",
       "      <td>-0.03812</td>\n",
       "      <td>-0.05990</td>\n",
       "      <td>-0.06535</td>\n",
       "      <td>-0.02723</td>\n",
       "      <td>-0.03267</td>\n",
       "      <td>-0.01634</td>\n",
       "      <td>0.06535</td>\n",
       "      <td>-0.03812</td>\n",
       "      <td>1.056470</td>\n",
       "      <td>1.063730</td>\n",
       "      <td>1.074167</td>\n",
       "      <td>1.072806</td>\n",
       "      <td>1.070992</td>\n",
       "      <td>1.072807</td>\n",
       "      <td>1.076891</td>\n",
       "      <td>1.080673</td>\n",
       "      <td>1.079887</td>\n",
       "      <td>1.079738</td>\n",
       "      <td>1.078253</td>\n",
       "      <td>1.070713</td>\n",
       "    </tr>\n",
       "    <tr>\n",
       "      <th>14</th>\n",
       "      <td>2000-01-21</td>\n",
       "      <td>1.02380</td>\n",
       "      <td>3716681.0</td>\n",
       "      <td>-0.02179</td>\n",
       "      <td>21</td>\n",
       "      <td>1</td>\n",
       "      <td>4</td>\n",
       "      <td>1.02380</td>\n",
       "      <td>1.04558</td>\n",
       "      <td>1.06736</td>\n",
       "      <td>1.07825</td>\n",
       "      <td>1.10548</td>\n",
       "      <td>1.06736</td>\n",
       "      <td>1.06192</td>\n",
       "      <td>1.08370</td>\n",
       "      <td>1.10548</td>\n",
       "      <td>1.11093</td>\n",
       "      <td>1.07281</td>\n",
       "      <td>1.07825</td>\n",
       "      <td>1.06192</td>\n",
       "      <td>0.98023</td>\n",
       "      <td>-0.02178</td>\n",
       "      <td>-0.04356</td>\n",
       "      <td>-0.05445</td>\n",
       "      <td>-0.08168</td>\n",
       "      <td>-0.04356</td>\n",
       "      <td>-0.03812</td>\n",
       "      <td>-0.05990</td>\n",
       "      <td>-0.08168</td>\n",
       "      <td>-0.08713</td>\n",
       "      <td>-0.04901</td>\n",
       "      <td>-0.05445</td>\n",
       "      <td>-0.03812</td>\n",
       "      <td>0.04357</td>\n",
       "      <td>1.034690</td>\n",
       "      <td>1.045580</td>\n",
       "      <td>1.053747</td>\n",
       "      <td>1.064094</td>\n",
       "      <td>1.064638</td>\n",
       "      <td>1.064250</td>\n",
       "      <td>1.066681</td>\n",
       "      <td>1.070992</td>\n",
       "      <td>1.074986</td>\n",
       "      <td>1.074788</td>\n",
       "      <td>1.075077</td>\n",
       "      <td>1.074065</td>\n",
       "    </tr>\n",
       "    <tr>\n",
       "      <th>15</th>\n",
       "      <td>2000-01-24</td>\n",
       "      <td>1.00201</td>\n",
       "      <td>2464321.0</td>\n",
       "      <td>0.10263</td>\n",
       "      <td>24</td>\n",
       "      <td>1</td>\n",
       "      <td>0</td>\n",
       "      <td>1.00201</td>\n",
       "      <td>1.02380</td>\n",
       "      <td>1.04558</td>\n",
       "      <td>1.06736</td>\n",
       "      <td>1.07825</td>\n",
       "      <td>1.10548</td>\n",
       "      <td>1.06736</td>\n",
       "      <td>1.06192</td>\n",
       "      <td>1.08370</td>\n",
       "      <td>1.10548</td>\n",
       "      <td>1.11093</td>\n",
       "      <td>1.07281</td>\n",
       "      <td>1.07825</td>\n",
       "      <td>1.06192</td>\n",
       "      <td>-0.02179</td>\n",
       "      <td>-0.04357</td>\n",
       "      <td>-0.06535</td>\n",
       "      <td>-0.07624</td>\n",
       "      <td>-0.10347</td>\n",
       "      <td>-0.06535</td>\n",
       "      <td>-0.05991</td>\n",
       "      <td>-0.08169</td>\n",
       "      <td>-0.10347</td>\n",
       "      <td>-0.10892</td>\n",
       "      <td>-0.07080</td>\n",
       "      <td>-0.07624</td>\n",
       "      <td>-0.05991</td>\n",
       "      <td>1.012905</td>\n",
       "      <td>1.023797</td>\n",
       "      <td>1.034687</td>\n",
       "      <td>1.043400</td>\n",
       "      <td>1.053747</td>\n",
       "      <td>1.055691</td>\n",
       "      <td>1.056470</td>\n",
       "      <td>1.059496</td>\n",
       "      <td>1.064094</td>\n",
       "      <td>1.068352</td>\n",
       "      <td>1.068723</td>\n",
       "      <td>1.069456</td>\n",
       "    </tr>\n",
       "    <tr>\n",
       "      <th>16</th>\n",
       "      <td>2000-01-25</td>\n",
       "      <td>1.10464</td>\n",
       "      <td>0.0</td>\n",
       "      <td>-0.10807</td>\n",
       "      <td>25</td>\n",
       "      <td>1</td>\n",
       "      <td>1</td>\n",
       "      <td>1.10464</td>\n",
       "      <td>1.00201</td>\n",
       "      <td>1.02380</td>\n",
       "      <td>1.04558</td>\n",
       "      <td>1.06736</td>\n",
       "      <td>1.07825</td>\n",
       "      <td>1.10548</td>\n",
       "      <td>1.06736</td>\n",
       "      <td>1.06192</td>\n",
       "      <td>1.08370</td>\n",
       "      <td>1.10548</td>\n",
       "      <td>1.11093</td>\n",
       "      <td>1.07281</td>\n",
       "      <td>1.07825</td>\n",
       "      <td>0.10263</td>\n",
       "      <td>0.08084</td>\n",
       "      <td>0.05906</td>\n",
       "      <td>0.03728</td>\n",
       "      <td>0.02639</td>\n",
       "      <td>-0.00084</td>\n",
       "      <td>0.03728</td>\n",
       "      <td>0.04272</td>\n",
       "      <td>0.02094</td>\n",
       "      <td>-0.00084</td>\n",
       "      <td>-0.00629</td>\n",
       "      <td>0.03183</td>\n",
       "      <td>0.02639</td>\n",
       "      <td>1.053325</td>\n",
       "      <td>1.043483</td>\n",
       "      <td>1.044007</td>\n",
       "      <td>1.048678</td>\n",
       "      <td>1.053607</td>\n",
       "      <td>1.061017</td>\n",
       "      <td>1.061810</td>\n",
       "      <td>1.061822</td>\n",
       "      <td>1.064010</td>\n",
       "      <td>1.067780</td>\n",
       "      <td>1.071376</td>\n",
       "      <td>1.071486</td>\n",
       "    </tr>\n",
       "    <tr>\n",
       "      <th>17</th>\n",
       "      <td>2000-01-26</td>\n",
       "      <td>0.99657</td>\n",
       "      <td>7301056.0</td>\n",
       "      <td>-0.01089</td>\n",
       "      <td>26</td>\n",
       "      <td>1</td>\n",
       "      <td>2</td>\n",
       "      <td>0.99657</td>\n",
       "      <td>1.10464</td>\n",
       "      <td>1.00201</td>\n",
       "      <td>1.02380</td>\n",
       "      <td>1.04558</td>\n",
       "      <td>1.06736</td>\n",
       "      <td>1.07825</td>\n",
       "      <td>1.10548</td>\n",
       "      <td>1.06736</td>\n",
       "      <td>1.06192</td>\n",
       "      <td>1.08370</td>\n",
       "      <td>1.10548</td>\n",
       "      <td>1.11093</td>\n",
       "      <td>1.07281</td>\n",
       "      <td>-0.10807</td>\n",
       "      <td>-0.00544</td>\n",
       "      <td>-0.02723</td>\n",
       "      <td>-0.04901</td>\n",
       "      <td>-0.07079</td>\n",
       "      <td>-0.08168</td>\n",
       "      <td>-0.10891</td>\n",
       "      <td>-0.07079</td>\n",
       "      <td>-0.06535</td>\n",
       "      <td>-0.08713</td>\n",
       "      <td>-0.10891</td>\n",
       "      <td>-0.11436</td>\n",
       "      <td>-0.07624</td>\n",
       "      <td>1.050605</td>\n",
       "      <td>1.034407</td>\n",
       "      <td>1.031755</td>\n",
       "      <td>1.034520</td>\n",
       "      <td>1.039993</td>\n",
       "      <td>1.045459</td>\n",
       "      <td>1.052961</td>\n",
       "      <td>1.054561</td>\n",
       "      <td>1.055297</td>\n",
       "      <td>1.057879</td>\n",
       "      <td>1.061846</td>\n",
       "      <td>1.065622</td>\n",
       "    </tr>\n",
       "  </tbody>\n",
       "</table>\n",
       "</div>"
      ],
      "text/plain": [
       "         Date  ...  Moving_avarage_close_price_13_weeks\n",
       "13 2000-01-20  ...                             1.070713\n",
       "14 2000-01-21  ...                             1.074065\n",
       "15 2000-01-24  ...                             1.069456\n",
       "16 2000-01-25  ...                             1.071486\n",
       "17 2000-01-26  ...                             1.065622\n",
       "\n",
       "[5 rows x 46 columns]"
      ]
     },
     "execution_count": 26,
     "metadata": {
      "tags": []
     },
     "output_type": "execute_result"
    }
   ],
   "source": [
    "train.head()"
   ]
  },
  {
   "cell_type": "code",
   "execution_count": 27,
   "metadata": {
    "colab": {},
    "colab_type": "code",
    "executionInfo": {
     "elapsed": 2944,
     "status": "ok",
     "timestamp": 1593639471755,
     "user": {
      "displayName": "João Conte",
      "photoUrl": "https://lh3.googleusercontent.com/a-/AOh14GgHcLIcHrnZal8fGaieSjwdAY8UEr4TQc7BfW3S=s64",
      "userId": "14849391931925135559"
     },
     "user_tz": 180
    },
    "id": "2mTHgIQ0tzQu"
   },
   "outputs": [],
   "source": [
    "train.drop(['Date', 'Close'], axis = 1, inplace=True)\n",
    "valid.drop(['Date', 'Close'], axis=1, inplace=True)"
   ]
  },
  {
   "cell_type": "code",
   "execution_count": 28,
   "metadata": {
    "colab": {},
    "colab_type": "code",
    "executionInfo": {
     "elapsed": 2941,
     "status": "ok",
     "timestamp": 1593639471757,
     "user": {
      "displayName": "João Conte",
      "photoUrl": "https://lh3.googleusercontent.com/a-/AOh14GgHcLIcHrnZal8fGaieSjwdAY8UEr4TQc7BfW3S=s64",
      "userId": "14849391931925135559"
     },
     "user_tz": 180
    },
    "id": "UJozTkKlvGN3"
   },
   "outputs": [],
   "source": [
    "X_train, y_train = train.drop('Diff_close_next_week', axis=1), train['Diff_close_next_week']\n",
    "X_valid, y_valid = valid.drop('Diff_close_next_week', axis=1), valid['Diff_close_next_week']\n",
    "y_valid_f = X_valid['Average_close_price_0'] + y_valid"
   ]
  },
  {
   "cell_type": "code",
   "execution_count": 29,
   "metadata": {
    "colab": {
     "base_uri": "https://localhost:8080/",
     "height": 34
    },
    "colab_type": "code",
    "executionInfo": {
     "elapsed": 18717,
     "status": "ok",
     "timestamp": 1593639487553,
     "user": {
      "displayName": "João Conte",
      "photoUrl": "https://lh3.googleusercontent.com/a-/AOh14GgHcLIcHrnZal8fGaieSjwdAY8UEr4TQc7BfW3S=s64",
      "userId": "14849391931925135559"
     },
     "user_tz": 180
    },
    "id": "tquSufrbwDXP",
    "outputId": "2d3f740f-06bf-480e-a2ef-00c5bbeff136"
   },
   "outputs": [
    {
     "name": "stdout",
     "output_type": "stream",
     "text": [
      "Erro: 1.77 %\n"
     ]
    }
   ],
   "source": [
    "model = RandomForestRegressor(n_jobs=-1, \n",
    "                              random_state=0,\n",
    "                              n_estimators=1500,\n",
    "                              min_samples_leaf=264,\n",
    "                              max_features='auto')\n",
    "\n",
    "model.fit(X_train, y_train)\n",
    "p = model.predict(X_valid)\n",
    "\n",
    "p_final = X_valid['Average_close_price_0'] + p\n",
    "print(\"Erro:\",round(np.sqrt(mean_squared_log_error(y_valid_f, p_final))*100, 2),\"%\")"
   ]
  },
  {
   "cell_type": "code",
   "execution_count": 30,
   "metadata": {
    "colab": {
     "base_uri": "https://localhost:8080/",
     "height": 444
    },
    "colab_type": "code",
    "executionInfo": {
     "elapsed": 20030,
     "status": "ok",
     "timestamp": 1593639488889,
     "user": {
      "displayName": "João Conte",
      "photoUrl": "https://lh3.googleusercontent.com/a-/AOh14GgHcLIcHrnZal8fGaieSjwdAY8UEr4TQc7BfW3S=s64",
      "userId": "14849391931925135559"
     },
     "user_tz": 180
    },
    "id": "tcLFDjTUwW_c",
    "outputId": "01b100a6-a80b-45a6-c2de-d3f20d0b2674"
   },
   "outputs": [
    {
     "data": {
      "text/plain": [
       "<matplotlib.legend.Legend at 0x7f50144eb4a8>"
      ]
     },
     "execution_count": 30,
     "metadata": {
      "tags": []
     },
     "output_type": "execute_result"
    },
    {
     "data": {
      "image/png": "[encoded data removed]",
      "text/plain": [
       "<Figure size 1440x504 with 2 Axes>"
      ]
     },
     "metadata": {
      "needs_background": "light",
      "tags": []
     },
     "output_type": "display_data"
    }
   ],
   "source": [
    "fig, ax = pylab.subplots(1, 1, figsize = (20, 7))\n",
    "ax.plot(y_valid_f, label='Y')\n",
    "axt = ax.twinx()\n",
    "axt.plot(p_final, color='orange', alpha=0.7, label='Previsões')\n",
    "axt.legend()"
   ]
  },
  {
   "cell_type": "code",
   "execution_count": 31,
   "metadata": {
    "colab": {
     "base_uri": "https://localhost:8080/",
     "height": 34
    },
    "colab_type": "code",
    "executionInfo": {
     "elapsed": 20355,
     "status": "ok",
     "timestamp": 1593639489239,
     "user": {
      "displayName": "João Conte",
      "photoUrl": "https://lh3.googleusercontent.com/a-/AOh14GgHcLIcHrnZal8fGaieSjwdAY8UEr4TQc7BfW3S=s64",
      "userId": "14849391931925135559"
     },
     "user_tz": 180
    },
    "id": "1hlD3DOhDQtl",
    "outputId": "9879072d-b54c-4a22-e5d2-da6b36dd3beb"
   },
   "outputs": [
    {
     "name": "stdout",
     "output_type": "stream",
     "text": [
      "Erro: 1.68 %\n"
     ]
    }
   ],
   "source": [
    "model = lgb.LGBMRegressor(n_jobs=-1, \n",
    "                          random_state=0, \n",
    "                          n_estimators=1000, \n",
    "                          learning_rate=0.0001, \n",
    "                          num_leaves=2**4, \n",
    "                          subsample=0.1, \n",
    "                          subsample_freq=1)\n",
    "model.fit(X_train, y_train)\n",
    "p = model.predict(X_valid)\n",
    "p_final = X_valid['Average_close_price_0'] + p\n",
    "\n",
    "print(\"Erro:\",round(np.sqrt(mean_squared_log_error(y_valid_f, p_final))*100, 2),\"%\")"
   ]
  },
  {
   "cell_type": "code",
   "execution_count": 32,
   "metadata": {
    "colab": {
     "base_uri": "https://localhost:8080/",
     "height": 444
    },
    "colab_type": "code",
    "executionInfo": {
     "elapsed": 21113,
     "status": "ok",
     "timestamp": 1593639490019,
     "user": {
      "displayName": "João Conte",
      "photoUrl": "https://lh3.googleusercontent.com/a-/AOh14GgHcLIcHrnZal8fGaieSjwdAY8UEr4TQc7BfW3S=s64",
      "userId": "14849391931925135559"
     },
     "user_tz": 180
    },
    "id": "eKOw1GDyDQp8",
    "outputId": "abe5206a-6804-4c74-9046-f96ff5a30aef"
   },
   "outputs": [
    {
     "data": {
      "text/plain": [
       "<matplotlib.legend.Legend at 0x7f5016505ef0>"
      ]
     },
     "execution_count": 32,
     "metadata": {
      "tags": []
     },
     "output_type": "execute_result"
    },
    {
     "data": {
      "image/png": "[encoded data removed]",
      "text/plain": [
       "<Figure size 1440x504 with 2 Axes>"
      ]
     },
     "metadata": {
      "needs_background": "light",
      "tags": []
     },
     "output_type": "display_data"
    }
   ],
   "source": [
    "fig, ax = pylab.subplots(1, 1, figsize=(20,7))\n",
    "ax.plot(y_valid_f, label = 'Y')\n",
    "axt = ax.twinx()\n",
    "axt.plot(p_final, color = 'orange', alpha = 0.7, label='Previsões')\n",
    "axt.legend()"
   ]
  },
  {
   "cell_type": "code",
   "execution_count": 33,
   "metadata": {
    "colab": {
     "base_uri": "https://localhost:8080/",
     "height": 1000
    },
    "colab_type": "code",
    "executionInfo": {
     "elapsed": 311989,
     "status": "ok",
     "timestamp": 1593639780917,
     "user": {
      "displayName": "João Conte",
      "photoUrl": "https://lh3.googleusercontent.com/a-/AOh14GgHcLIcHrnZal8fGaieSjwdAY8UEr4TQc7BfW3S=s64",
      "userId": "14849391931925135559"
     },
     "user_tz": 180
    },
    "id": "VkeiP3Nz9sxQ",
    "outputId": "edda0415-236e-46ee-eee0-2cc3324ad6d7"
   },
   "outputs": [
    {
     "name": "stdout",
     "output_type": "stream",
     "text": [
      "Melhor Variável: Diff_avarage_close_price_7 - Erro: 1.6802\n",
      "\n",
      "['Diff_avarage_close_price_7']\n",
      "\n",
      "Melhor Variável: Moving_avarage_close_price_10_weeks - Erro: 1.6787\n",
      "\n",
      "['Diff_avarage_close_price_7', 'Moving_avarage_close_price_10_weeks']\n",
      "\n",
      "Melhor Variável: Diff_avarage_close_price_13 - Erro: 1.6764\n",
      "\n",
      "['Diff_avarage_close_price_7', 'Moving_avarage_close_price_10_weeks', 'Diff_avarage_close_price_13']\n",
      "\n",
      "Melhor Variável: Diff_avarage_close_price_12 - Erro: 1.6759\n",
      "\n",
      "['Diff_avarage_close_price_7', 'Moving_avarage_close_price_10_weeks', 'Diff_avarage_close_price_13', 'Diff_avarage_close_price_12']\n",
      "\n",
      "Melhor Variável: Mouth - Erro: 1.6755\n",
      "\n",
      "['Diff_avarage_close_price_7', 'Moving_avarage_close_price_10_weeks', 'Diff_avarage_close_price_13', 'Diff_avarage_close_price_12', 'Mouth']\n",
      "\n",
      "Melhor Variável: Day - Erro: 1.6754\n",
      "\n",
      "['Diff_avarage_close_price_7', 'Moving_avarage_close_price_10_weeks', 'Diff_avarage_close_price_13', 'Diff_avarage_close_price_12', 'Mouth', 'Day']\n",
      "\n",
      "Melhor Variável: Diff_avarage_close_price_2 - Erro: 1.6754\n",
      "\n",
      "['Diff_avarage_close_price_7', 'Moving_avarage_close_price_10_weeks', 'Diff_avarage_close_price_13', 'Diff_avarage_close_price_12', 'Mouth', 'Day', 'Diff_avarage_close_price_2']\n",
      "\n",
      "Melhor Variável: Moving_avarage_close_price_5_weeks - Erro: 1.6753\n",
      "\n",
      "['Diff_avarage_close_price_7', 'Moving_avarage_close_price_10_weeks', 'Diff_avarage_close_price_13', 'Diff_avarage_close_price_12', 'Mouth', 'Day', 'Diff_avarage_close_price_2', 'Moving_avarage_close_price_5_weeks']\n",
      "\n",
      "Melhor Variável: Volume - Erro: 1.6752\n",
      "\n",
      "['Diff_avarage_close_price_7', 'Moving_avarage_close_price_10_weeks', 'Diff_avarage_close_price_13', 'Diff_avarage_close_price_12', 'Mouth', 'Day', 'Diff_avarage_close_price_2', 'Moving_avarage_close_price_5_weeks', 'Volume']\n",
      "\n",
      "Melhor Variável: Moving_avarage_close_price_12_weeks - Erro: 1.6751\n",
      "\n",
      "['Diff_avarage_close_price_7', 'Moving_avarage_close_price_10_weeks', 'Diff_avarage_close_price_13', 'Diff_avarage_close_price_12', 'Mouth', 'Day', 'Diff_avarage_close_price_2', 'Moving_avarage_close_price_5_weeks', 'Volume', 'Moving_avarage_close_price_12_weeks']\n",
      "\n",
      "Melhor Variável: Moving_avarage_close_price_9_weeks - Erro: 1.6751\n",
      "\n",
      "['Diff_avarage_close_price_7', 'Moving_avarage_close_price_10_weeks', 'Diff_avarage_close_price_13', 'Diff_avarage_close_price_12', 'Mouth', 'Day', 'Diff_avarage_close_price_2', 'Moving_avarage_close_price_5_weeks', 'Volume', 'Moving_avarage_close_price_12_weeks', 'Moving_avarage_close_price_9_weeks']\n",
      "\n",
      "Melhor Variável: Moving_avarage_close_price_11_weeks - Erro: 1.6751\n",
      "\n",
      "['Diff_avarage_close_price_7', 'Moving_avarage_close_price_10_weeks', 'Diff_avarage_close_price_13', 'Diff_avarage_close_price_12', 'Mouth', 'Day', 'Diff_avarage_close_price_2', 'Moving_avarage_close_price_5_weeks', 'Volume', 'Moving_avarage_close_price_12_weeks', 'Moving_avarage_close_price_9_weeks', 'Moving_avarage_close_price_11_weeks']\n",
      "\n",
      "Melhor Variável: Diff_avarage_close_price_9 - Erro: 1.6751\n",
      "\n",
      "['Diff_avarage_close_price_7', 'Moving_avarage_close_price_10_weeks', 'Diff_avarage_close_price_13', 'Diff_avarage_close_price_12', 'Mouth', 'Day', 'Diff_avarage_close_price_2', 'Moving_avarage_close_price_5_weeks', 'Volume', 'Moving_avarage_close_price_12_weeks', 'Moving_avarage_close_price_9_weeks', 'Moving_avarage_close_price_11_weeks', 'Diff_avarage_close_price_9']\n",
      "\n",
      "Melhor Variável: Average_close_price_0 - Erro: 1.6751\n",
      "\n",
      "['Diff_avarage_close_price_7', 'Moving_avarage_close_price_10_weeks', 'Diff_avarage_close_price_13', 'Diff_avarage_close_price_12', 'Mouth', 'Day', 'Diff_avarage_close_price_2', 'Moving_avarage_close_price_5_weeks', 'Volume', 'Moving_avarage_close_price_12_weeks', 'Moving_avarage_close_price_9_weeks', 'Moving_avarage_close_price_11_weeks', 'Diff_avarage_close_price_9', 'Average_close_price_0']\n",
      "\n",
      "Melhor Variável: Moving_avarage_close_price_7_weeks - Erro: 1.6751\n",
      "\n",
      "['Diff_avarage_close_price_7', 'Moving_avarage_close_price_10_weeks', 'Diff_avarage_close_price_13', 'Diff_avarage_close_price_12', 'Mouth', 'Day', 'Diff_avarage_close_price_2', 'Moving_avarage_close_price_5_weeks', 'Volume', 'Moving_avarage_close_price_12_weeks', 'Moving_avarage_close_price_9_weeks', 'Moving_avarage_close_price_11_weeks', 'Diff_avarage_close_price_9', 'Average_close_price_0', 'Moving_avarage_close_price_7_weeks']\n",
      "\n",
      "Melhor Variável: Moving_avarage_close_price_3_weeks - Erro: 1.6751\n",
      "\n",
      "['Diff_avarage_close_price_7', 'Moving_avarage_close_price_10_weeks', 'Diff_avarage_close_price_13', 'Diff_avarage_close_price_12', 'Mouth', 'Day', 'Diff_avarage_close_price_2', 'Moving_avarage_close_price_5_weeks', 'Volume', 'Moving_avarage_close_price_12_weeks', 'Moving_avarage_close_price_9_weeks', 'Moving_avarage_close_price_11_weeks', 'Diff_avarage_close_price_9', 'Average_close_price_0', 'Moving_avarage_close_price_7_weeks', 'Moving_avarage_close_price_3_weeks']\n",
      "\n"
     ]
    }
   ],
   "source": [
    "accept = []\n",
    "vl_low_error = 10000\n",
    "\n",
    "for step in range(20):\n",
    "    var_low_error = None\n",
    "    for var in X_train.columns:\n",
    "        if var in accept:\n",
    "            continue\n",
    "        model.fit(X_train[accept+[var]], y_train)\n",
    "        p = model.predict(X_valid[accept+[var]])\n",
    "\n",
    "        p_final = X_valid['Average_close_price_0'] + p\n",
    "        y_valid_f = X_valid['Average_close_price_0'] + y_valid\n",
    "\n",
    "        error = np.sqrt(mean_squared_log_error(y_valid_f, p_final)) * 100\n",
    "\n",
    "        if error < vl_low_error:\n",
    "            var_low_error = var\n",
    "            vl_low_error = error\n",
    "    if var_low_error is None:\n",
    "        break\n",
    "    accept.append(var_low_error)\n",
    "        \n",
    "    print(\"Melhor Variável: {} - Erro: {:.4f}\\n\".format(var_low_error, vl_low_error))\n",
    "    print(accept)\n",
    "    print()"
   ]
  },
  {
   "cell_type": "code",
   "execution_count": 39,
   "metadata": {
    "colab": {},
    "colab_type": "code",
    "executionInfo": {
     "elapsed": 589,
     "status": "ok",
     "timestamp": 1593639859221,
     "user": {
      "displayName": "João Conte",
      "photoUrl": "https://lh3.googleusercontent.com/a-/AOh14GgHcLIcHrnZal8fGaieSjwdAY8UEr4TQc7BfW3S=s64",
      "userId": "14849391931925135559"
     },
     "user_tz": 180
    },
    "id": "inKSMOcWVler"
   },
   "outputs": [],
   "source": [
    "accept.append('Diff_close_next_week')"
   ]
  },
  {
   "cell_type": "code",
   "execution_count": 53,
   "metadata": {
    "colab": {
     "base_uri": "https://localhost:8080/",
     "height": 224
    },
    "colab_type": "code",
    "executionInfo": {
     "elapsed": 636,
     "status": "ok",
     "timestamp": 1593639916889,
     "user": {
      "displayName": "João Conte",
      "photoUrl": "https://lh3.googleusercontent.com/a-/AOh14GgHcLIcHrnZal8fGaieSjwdAY8UEr4TQc7BfW3S=s64",
      "userId": "14849391931925135559"
     },
     "user_tz": 180
    },
    "id": "2JZQRm8gVpdJ",
    "outputId": "da696ff7-6b4c-49e0-f106-f1a8db7fc549"
   },
   "outputs": [
    {
     "data": {
      "text/html": [
       "<div>\n",
       "<style scoped>\n",
       "    .dataframe tbody tr th:only-of-type {\n",
       "        vertical-align: middle;\n",
       "    }\n",
       "\n",
       "    .dataframe tbody tr th {\n",
       "        vertical-align: top;\n",
       "    }\n",
       "\n",
       "    .dataframe thead th {\n",
       "        text-align: right;\n",
       "    }\n",
       "</style>\n",
       "<table border=\"1\" class=\"dataframe\">\n",
       "  <thead>\n",
       "    <tr style=\"text-align: right;\">\n",
       "      <th></th>\n",
       "      <th>Diff_avarage_close_price_7</th>\n",
       "      <th>Moving_avarage_close_price_10_weeks</th>\n",
       "      <th>Diff_avarage_close_price_13</th>\n",
       "      <th>Diff_avarage_close_price_12</th>\n",
       "      <th>Mouth</th>\n",
       "      <th>Day</th>\n",
       "      <th>Diff_avarage_close_price_2</th>\n",
       "      <th>Moving_avarage_close_price_5_weeks</th>\n",
       "      <th>Volume</th>\n",
       "      <th>Moving_avarage_close_price_12_weeks</th>\n",
       "      <th>Moving_avarage_close_price_9_weeks</th>\n",
       "      <th>Moving_avarage_close_price_11_weeks</th>\n",
       "      <th>Diff_avarage_close_price_9</th>\n",
       "      <th>Average_close_price_0</th>\n",
       "      <th>Moving_avarage_close_price_7_weeks</th>\n",
       "      <th>Moving_avarage_close_price_3_weeks</th>\n",
       "      <th>Diff_close_next_week</th>\n",
       "    </tr>\n",
       "  </thead>\n",
       "  <tbody>\n",
       "    <tr>\n",
       "      <th>13</th>\n",
       "      <td>-0.05990</td>\n",
       "      <td>1.079887</td>\n",
       "      <td>-0.03812</td>\n",
       "      <td>0.06535</td>\n",
       "      <td>1</td>\n",
       "      <td>20</td>\n",
       "      <td>-0.03267</td>\n",
       "      <td>1.072806</td>\n",
       "      <td>4388714.0</td>\n",
       "      <td>1.078253</td>\n",
       "      <td>1.080673</td>\n",
       "      <td>1.079738</td>\n",
       "      <td>-0.02723</td>\n",
       "      <td>1.04558</td>\n",
       "      <td>1.072807</td>\n",
       "      <td>1.063730</td>\n",
       "      <td>-0.02178</td>\n",
       "    </tr>\n",
       "    <tr>\n",
       "      <th>14</th>\n",
       "      <td>-0.05990</td>\n",
       "      <td>1.074986</td>\n",
       "      <td>0.04357</td>\n",
       "      <td>-0.03812</td>\n",
       "      <td>1</td>\n",
       "      <td>21</td>\n",
       "      <td>-0.04356</td>\n",
       "      <td>1.064094</td>\n",
       "      <td>3716681.0</td>\n",
       "      <td>1.075077</td>\n",
       "      <td>1.070992</td>\n",
       "      <td>1.074788</td>\n",
       "      <td>-0.08713</td>\n",
       "      <td>1.02380</td>\n",
       "      <td>1.064250</td>\n",
       "      <td>1.045580</td>\n",
       "      <td>-0.02179</td>\n",
       "    </tr>\n",
       "    <tr>\n",
       "      <th>15</th>\n",
       "      <td>-0.05991</td>\n",
       "      <td>1.064094</td>\n",
       "      <td>-0.05991</td>\n",
       "      <td>-0.07624</td>\n",
       "      <td>1</td>\n",
       "      <td>24</td>\n",
       "      <td>-0.04357</td>\n",
       "      <td>1.043400</td>\n",
       "      <td>2464321.0</td>\n",
       "      <td>1.068723</td>\n",
       "      <td>1.059496</td>\n",
       "      <td>1.068352</td>\n",
       "      <td>-0.10347</td>\n",
       "      <td>1.00201</td>\n",
       "      <td>1.055691</td>\n",
       "      <td>1.023797</td>\n",
       "      <td>0.10263</td>\n",
       "    </tr>\n",
       "    <tr>\n",
       "      <th>16</th>\n",
       "      <td>0.03728</td>\n",
       "      <td>1.064010</td>\n",
       "      <td>0.02639</td>\n",
       "      <td>0.03183</td>\n",
       "      <td>1</td>\n",
       "      <td>25</td>\n",
       "      <td>0.08084</td>\n",
       "      <td>1.048678</td>\n",
       "      <td>0.0</td>\n",
       "      <td>1.071376</td>\n",
       "      <td>1.061822</td>\n",
       "      <td>1.067780</td>\n",
       "      <td>0.02094</td>\n",
       "      <td>1.10464</td>\n",
       "      <td>1.061017</td>\n",
       "      <td>1.043483</td>\n",
       "      <td>-0.10807</td>\n",
       "    </tr>\n",
       "    <tr>\n",
       "      <th>17</th>\n",
       "      <td>-0.10891</td>\n",
       "      <td>1.055297</td>\n",
       "      <td>-0.07624</td>\n",
       "      <td>-0.11436</td>\n",
       "      <td>1</td>\n",
       "      <td>26</td>\n",
       "      <td>-0.00544</td>\n",
       "      <td>1.034520</td>\n",
       "      <td>7301056.0</td>\n",
       "      <td>1.061846</td>\n",
       "      <td>1.054561</td>\n",
       "      <td>1.057879</td>\n",
       "      <td>-0.06535</td>\n",
       "      <td>0.99657</td>\n",
       "      <td>1.045459</td>\n",
       "      <td>1.034407</td>\n",
       "      <td>-0.01089</td>\n",
       "    </tr>\n",
       "  </tbody>\n",
       "</table>\n",
       "</div>"
      ],
      "text/plain": [
       "    Diff_avarage_close_price_7  ...  Diff_close_next_week\n",
       "13                    -0.05990  ...              -0.02178\n",
       "14                    -0.05990  ...              -0.02179\n",
       "15                    -0.05991  ...               0.10263\n",
       "16                     0.03728  ...              -0.10807\n",
       "17                    -0.10891  ...              -0.01089\n",
       "\n",
       "[5 rows x 17 columns]"
      ]
     },
     "execution_count": 53,
     "metadata": {
      "tags": []
     },
     "output_type": "execute_result"
    }
   ],
   "source": [
    "train = train[accept]\n",
    "train.head()"
   ]
  },
  {
   "cell_type": "code",
   "execution_count": 54,
   "metadata": {
    "colab": {},
    "colab_type": "code",
    "executionInfo": {
     "elapsed": 610,
     "status": "ok",
     "timestamp": 1593639918206,
     "user": {
      "displayName": "João Conte",
      "photoUrl": "https://lh3.googleusercontent.com/a-/AOh14GgHcLIcHrnZal8fGaieSjwdAY8UEr4TQc7BfW3S=s64",
      "userId": "14849391931925135559"
     },
     "user_tz": 180
    },
    "id": "4XTn9MIiWD_Z"
   },
   "outputs": [],
   "source": [
    "valid = valid[accept]"
   ]
  },
  {
   "cell_type": "code",
   "execution_count": 55,
   "metadata": {
    "colab": {},
    "colab_type": "code",
    "executionInfo": {
     "elapsed": 425,
     "status": "ok",
     "timestamp": 1593639918853,
     "user": {
      "displayName": "João Conte",
      "photoUrl": "https://lh3.googleusercontent.com/a-/AOh14GgHcLIcHrnZal8fGaieSjwdAY8UEr4TQc7BfW3S=s64",
      "userId": "14849391931925135559"
     },
     "user_tz": 180
    },
    "id": "zAfYesDlWHEQ"
   },
   "outputs": [],
   "source": [
    "X_train, y_train = train.drop('Diff_close_next_week', axis=1), train['Diff_close_next_week']\n",
    "X_valid, y_valid = valid.drop('Diff_close_next_week', axis=1), valid['Diff_close_next_week']\n",
    "y_valid_f = X_valid['Average_close_price_0'] + y_valid"
   ]
  },
  {
   "cell_type": "code",
   "execution_count": 56,
   "metadata": {
    "colab": {
     "base_uri": "https://localhost:8080/",
     "height": 34
    },
    "colab_type": "code",
    "executionInfo": {
     "elapsed": 1236,
     "status": "ok",
     "timestamp": 1593639921350,
     "user": {
      "displayName": "João Conte",
      "photoUrl": "https://lh3.googleusercontent.com/a-/AOh14GgHcLIcHrnZal8fGaieSjwdAY8UEr4TQc7BfW3S=s64",
      "userId": "14849391931925135559"
     },
     "user_tz": 180
    },
    "id": "3nAFRA-NWPPt",
    "outputId": "37796482-e835-45ec-9317-52e010c8034c"
   },
   "outputs": [
    {
     "name": "stdout",
     "output_type": "stream",
     "text": [
      "Erro: 1.6751 %\n"
     ]
    }
   ],
   "source": [
    "model = lgb.LGBMRegressor(n_jobs=-1, \n",
    "                          random_state=0, \n",
    "                          n_estimators=1000, \n",
    "                          learning_rate=0.0001, \n",
    "                          num_leaves=2**4, \n",
    "                          subsample=0.1, \n",
    "                          subsample_freq=1)\n",
    "model.fit(X_train, y_train)\n",
    "p = model.predict(X_valid)\n",
    "p_final = X_valid['Average_close_price_0'] + p\n",
    "\n",
    "print(\"Erro:\",round(np.sqrt(mean_squared_log_error(y_valid_f, p_final))*100, 4),\"%\")"
   ]
  },
  {
   "cell_type": "code",
   "execution_count": 57,
   "metadata": {
    "colab": {
     "base_uri": "https://localhost:8080/",
     "height": 444
    },
    "colab_type": "code",
    "executionInfo": {
     "elapsed": 1052,
     "status": "ok",
     "timestamp": 1593639923351,
     "user": {
      "displayName": "João Conte",
      "photoUrl": "https://lh3.googleusercontent.com/a-/AOh14GgHcLIcHrnZal8fGaieSjwdAY8UEr4TQc7BfW3S=s64",
      "userId": "14849391931925135559"
     },
     "user_tz": 180
    },
    "id": "eMbFkbibWsHc",
    "outputId": "e7658177-69ba-47f5-c292-a76465d408d4"
   },
   "outputs": [
    {
     "data": {
      "text/plain": [
       "<matplotlib.legend.Legend at 0x7f5013f549e8>"
      ]
     },
     "execution_count": 57,
     "metadata": {
      "tags": []
     },
     "output_type": "execute_result"
    },
    {
     "data": {
      "image/png": "[encoded data removed]",
      "text/plain": [
       "<Figure size 1440x504 with 2 Axes>"
      ]
     },
     "metadata": {
      "needs_background": "light",
      "tags": []
     },
     "output_type": "display_data"
    }
   ],
   "source": [
    "fig, ax = pylab.subplots(1, 1, figsize=(20,7))\n",
    "ax.plot(y_valid_f, label = 'Y')\n",
    "axt = ax.twinx()\n",
    "axt.plot(p_final, color = 'orange', alpha = 0.7, label='Previsões')\n",
    "axt.legend()"
   ]
  },
  {
   "cell_type": "code",
   "execution_count": null,
   "metadata": {
    "colab": {},
    "colab_type": "code",
    "executionInfo": {
     "elapsed": 311907,
     "status": "aborted",
     "timestamp": 1593639780933,
     "user": {
      "displayName": "João Conte",
      "photoUrl": "https://lh3.googleusercontent.com/a-/AOh14GgHcLIcHrnZal8fGaieSjwdAY8UEr4TQc7BfW3S=s64",
      "userId": "14849391931925135559"
     },
     "user_tz": 180
    },
    "id": "UI2L0-mlWzgr"
   },
   "outputs": [],
   "source": []
  }
 ],
 "metadata": {
  "colab": {
   "authorship_tag": "ABX9TyNIUFpffM14bwIgLgXeOPpn",
   "collapsed_sections": [],
   "mount_file_id": "1gAFe5OxEB1EZC_xgkVeUJOtajYfL31Tj",
   "name": "Análise de Dados e Modelos de Machine Learning.ipynb",
   "provenance": []
  },
  "kernelspec": {
   "display_name": "Python 3",
   "language": "python",
   "name": "python3"
  },
  "language_info": {
   "codemirror_mode": {
    "name": "ipython",
    "version": 3
   },
   "file_extension": ".py",
   "mimetype": "text/x-python",
   "name": "python",
   "nbconvert_exporter": "python",
   "pygments_lexer": "ipython3",
   "version": "3.8.2"
  }
 },
 "nbformat": 4,
 "nbformat_minor": 1
}
