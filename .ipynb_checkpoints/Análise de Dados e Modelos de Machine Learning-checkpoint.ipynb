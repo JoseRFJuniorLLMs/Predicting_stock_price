{
 "cells": [
  {
   "cell_type": "markdown",
   "metadata": {
    "colab_type": "text",
    "id": "bfl-CW0Xu488"
   },
   "source": [
    "# Data Analysis And Machine Learning\n",
    "\n",
    "That's the first part of project where I'll analysis the data and apply some machine learning models to predict the stock prices. \n",
    "\n",
    "---\n",
    "\n",
    "## 1. Introduction\n",
    "\n",
    "First of all I import the libraries, even which will use the library in final of code I import it in initiation of code.\n",
    "\n",
    "First I defined the basic libraries to data analyze, them are:\n",
    "* Pandas: To data analysis and manipulation tool;\n",
    "* Numpy: To algebraic manipulation (vectors, matrices, and so on);\n",
    "* Matplotlib: To data visualization in graphs.\n",
    "\n",
    "After it I define the libraries of sklearn to metrics analysis and data preprocessing. The metric which will used is the mean squared logarithmic error, define by:\n",
    "\n",
    "### $RMSLE = \\sqrt{\\frac{1}{N}\\sum_{n=1}^{N} (log(y_{n}+1)-log(\\hat{y}_n+1))^2}$\n",
    "\n",
    "In words the RMSLE is the squared of variation, or standard deviation in this case, of logarithm of bias and the variation of predictor. Further I'll use MinMaxScaler to define the values in interval between 0 than 1, that's to help the model fit better than using real values.\n",
    "\n",
    "The models I'll use to start are Random Forest Regressor and LightGBM, both are very good to predict time series in general. In other notebook I'll using reccurent neural network to compare the models and see how is better.\n",
    "\n",
    "By the sklearn library documentation: **A random forest** is a meta estimator that fits a number of classifying decision trees on various sub-samples of the dataset and uses averaging to improve the predictive accuracy and control over-fitting. The sub-sample size is controlled with the max_samples parameter if bootstrap=True (default), otherwise the whole dataset is used to build each tree. And by the LightGBM library: **LightGBM** is a gradient boosting framework that uses tree based learning algorithms. It is designed to be distributed and efficient with the following advantages:\n",
    "* Faster training speed and higher efficiency.\n",
    "* Lower memory usage.\n",
    "* Better accuracy.\n",
    "* Support of parallel and GPU learning.\n",
    "* Capable of handling large-scale data.\n",
    "\n",
    "Presumably the LightGBM has a better performance than Random Forest Regressor. But It'll seen in pratice."
   ]
  },
  {
   "cell_type": "code",
   "execution_count": 2,
   "metadata": {
    "colab": {
     "base_uri": "https://localhost:8080/",
     "height": 34
    },
    "colab_type": "code",
    "executionInfo": {
     "elapsed": 3120,
     "status": "ok",
     "timestamp": 1594702769751,
     "user": {
      "displayName": "João Conte",
      "photoUrl": "https://lh3.googleusercontent.com/a-/AOh14GgHcLIcHrnZal8fGaieSjwdAY8UEr4TQc7BfW3S=s64",
      "userId": "14849391931925135559"
     },
     "user_tz": 180
    },
    "id": "bcCFBvXSNhAe",
    "outputId": "832a8bd1-a347-49cf-80d5-10db25570d05"
   },
   "outputs": [
    {
     "name": "stdout",
     "output_type": "stream",
     "text": [
      "Populating the interactive namespace from numpy and matplotlib\n"
     ]
    }
   ],
   "source": [
    "import pandas as pd\n",
    "import numpy as np\n",
    "import matplotlib.pyplot as plt\n",
    "%pylab inline\n",
    "%matplotlib inline\n",
    "\n",
    "from sklearn.metrics import mean_squared_log_error\n",
    "from sklearn.preprocessing import MinMaxScaler\n",
    "\n",
    "\n",
    "from sklearn.ensemble import RandomForestRegressor\n",
    "import lightgbm as lgb"
   ]
  },
  {
   "cell_type": "markdown",
   "metadata": {
    "colab_type": "text",
    "id": "W6hPOu65vDJ9"
   },
   "source": [
    "\n",
    "\n",
    "---\n",
    "\n",
    "## 2. Imports and Initial Visualizations\n",
    "\n",
    "Now let's import the data and see more about them, first I'll import the dataset which I downloaded in <a href=\"https://br.financas.yahoo.com/\" target=\"_blank\">Yahoo Finanças</a>.\n",
    "\n",
    "I did download the data of Itausa (ITSA4) that's a brazilian holding stock of Itau Bank, downloading of all values since when started the negotiation in stock exchange.\n",
    "\n",
    "So I like start pass my date data to datetime and see the head of dataset and the types of other values. Probably that dataset will be very clean and the clean of null values very lightfull."
   ]
  },
  {
   "cell_type": "code",
   "execution_count": 3,
   "metadata": {
    "colab": {},
    "colab_type": "code",
    "executionInfo": {
     "elapsed": 3098,
     "status": "ok",
     "timestamp": 1594702769756,
     "user": {
      "displayName": "João Conte",
      "photoUrl": "https://lh3.googleusercontent.com/a-/AOh14GgHcLIcHrnZal8fGaieSjwdAY8UEr4TQc7BfW3S=s64",
      "userId": "14849391931925135559"
     },
     "user_tz": 180
    },
    "id": "cpzS2yg-NkIB"
   },
   "outputs": [],
   "source": [
    "dados = \"/content/drive/My Drive/ColabNotebooks/Projetos Portifolio/Prevendo_valor_acoes/itausa.csv\""
   ]
  },
  {
   "cell_type": "code",
   "execution_count": 4,
   "metadata": {
    "colab": {
     "base_uri": "https://localhost:8080/",
     "height": 204
    },
    "colab_type": "code",
    "executionInfo": {
     "elapsed": 3065,
     "status": "ok",
     "timestamp": 1594702769758,
     "user": {
      "displayName": "João Conte",
      "photoUrl": "https://lh3.googleusercontent.com/a-/AOh14GgHcLIcHrnZal8fGaieSjwdAY8UEr4TQc7BfW3S=s64",
      "userId": "14849391931925135559"
     },
     "user_tz": 180
    },
    "id": "EfW-Zr1qN3dq",
    "outputId": "a94ad927-0045-4931-fd81-6296ca98a08e"
   },
   "outputs": [
    {
     "data": {
      "text/html": [
       "<div>\n",
       "<style scoped>\n",
       "    .dataframe tbody tr th:only-of-type {\n",
       "        vertical-align: middle;\n",
       "    }\n",
       "\n",
       "    .dataframe tbody tr th {\n",
       "        vertical-align: top;\n",
       "    }\n",
       "\n",
       "    .dataframe thead th {\n",
       "        text-align: right;\n",
       "    }\n",
       "</style>\n",
       "<table border=\"1\" class=\"dataframe\">\n",
       "  <thead>\n",
       "    <tr style=\"text-align: right;\">\n",
       "      <th></th>\n",
       "      <th>Date</th>\n",
       "      <th>Open</th>\n",
       "      <th>High</th>\n",
       "      <th>Low</th>\n",
       "      <th>Close</th>\n",
       "      <th>Adj Close</th>\n",
       "      <th>Volume</th>\n",
       "    </tr>\n",
       "  </thead>\n",
       "  <tbody>\n",
       "    <tr>\n",
       "      <th>0</th>\n",
       "      <td>2000-01-03</td>\n",
       "      <td>1.01835</td>\n",
       "      <td>1.14360</td>\n",
       "      <td>1.01290</td>\n",
       "      <td>1.08370</td>\n",
       "      <td>0.620248</td>\n",
       "      <td>10285107.0</td>\n",
       "    </tr>\n",
       "    <tr>\n",
       "      <th>1</th>\n",
       "      <td>2000-01-04</td>\n",
       "      <td>1.04558</td>\n",
       "      <td>1.04558</td>\n",
       "      <td>0.98023</td>\n",
       "      <td>0.98023</td>\n",
       "      <td>0.561028</td>\n",
       "      <td>12071740.0</td>\n",
       "    </tr>\n",
       "    <tr>\n",
       "      <th>2</th>\n",
       "      <td>2000-01-05</td>\n",
       "      <td>0.98568</td>\n",
       "      <td>1.06192</td>\n",
       "      <td>0.94756</td>\n",
       "      <td>1.06192</td>\n",
       "      <td>0.607783</td>\n",
       "      <td>9163033.0</td>\n",
       "    </tr>\n",
       "    <tr>\n",
       "      <th>3</th>\n",
       "      <td>2000-01-06</td>\n",
       "      <td>1.05647</td>\n",
       "      <td>1.08370</td>\n",
       "      <td>1.05102</td>\n",
       "      <td>1.07825</td>\n",
       "      <td>0.617129</td>\n",
       "      <td>23085841.0</td>\n",
       "    </tr>\n",
       "    <tr>\n",
       "      <th>4</th>\n",
       "      <td>2000-01-07</td>\n",
       "      <td>1.08914</td>\n",
       "      <td>1.10548</td>\n",
       "      <td>1.06192</td>\n",
       "      <td>1.07281</td>\n",
       "      <td>0.614016</td>\n",
       "      <td>11216095.0</td>\n",
       "    </tr>\n",
       "  </tbody>\n",
       "</table>\n",
       "</div>"
      ],
      "text/plain": [
       "         Date     Open     High      Low    Close  Adj Close      Volume\n",
       "0  2000-01-03  1.01835  1.14360  1.01290  1.08370   0.620248  10285107.0\n",
       "1  2000-01-04  1.04558  1.04558  0.98023  0.98023   0.561028  12071740.0\n",
       "2  2000-01-05  0.98568  1.06192  0.94756  1.06192   0.607783   9163033.0\n",
       "3  2000-01-06  1.05647  1.08370  1.05102  1.07825   0.617129  23085841.0\n",
       "4  2000-01-07  1.08914  1.10548  1.06192  1.07281   0.614016  11216095.0"
      ]
     },
     "execution_count": 4,
     "metadata": {
      "tags": []
     },
     "output_type": "execute_result"
    }
   ],
   "source": [
    "dados = pd.read_csv(dados)\n",
    "dados.head()"
   ]
  },
  {
   "cell_type": "code",
   "execution_count": 5,
   "metadata": {
    "colab": {
     "base_uri": "https://localhost:8080/",
     "height": 153
    },
    "colab_type": "code",
    "executionInfo": {
     "elapsed": 3039,
     "status": "ok",
     "timestamp": 1594702769773,
     "user": {
      "displayName": "João Conte",
      "photoUrl": "https://lh3.googleusercontent.com/a-/AOh14GgHcLIcHrnZal8fGaieSjwdAY8UEr4TQc7BfW3S=s64",
      "userId": "14849391931925135559"
     },
     "user_tz": 180
    },
    "id": "NetxnD1ufW63",
    "outputId": "119134a8-05e6-494e-f8d6-03da1c86330f"
   },
   "outputs": [
    {
     "data": {
      "text/plain": [
       "Date         datetime64[ns]\n",
       "Open                float64\n",
       "High                float64\n",
       "Low                 float64\n",
       "Close               float64\n",
       "Adj Close           float64\n",
       "Volume              float64\n",
       "dtype: object"
      ]
     },
     "execution_count": 5,
     "metadata": {
      "tags": []
     },
     "output_type": "execute_result"
    }
   ],
   "source": [
    "dados['Date'] = pd.to_datetime(dados['Date'])\n",
    "dados.dtypes"
   ]
  },
  {
   "cell_type": "code",
   "execution_count": 6,
   "metadata": {
    "colab": {
     "base_uri": "https://localhost:8080/",
     "height": 153
    },
    "colab_type": "code",
    "executionInfo": {
     "elapsed": 3003,
     "status": "ok",
     "timestamp": 1594702769776,
     "user": {
      "displayName": "João Conte",
      "photoUrl": "https://lh3.googleusercontent.com/a-/AOh14GgHcLIcHrnZal8fGaieSjwdAY8UEr4TQc7BfW3S=s64",
      "userId": "14849391931925135559"
     },
     "user_tz": 180
    },
    "id": "52ojVHYSgrlA",
    "outputId": "893f9bff-ae4a-4581-8435-55a20c84dd2d"
   },
   "outputs": [
    {
     "data": {
      "text/plain": [
       "Date          0\n",
       "Open         87\n",
       "High         87\n",
       "Low          87\n",
       "Close        87\n",
       "Adj Close    87\n",
       "Volume       87\n",
       "dtype: int64"
      ]
     },
     "execution_count": 6,
     "metadata": {
      "tags": []
     },
     "output_type": "execute_result"
    }
   ],
   "source": [
    "valores_nulos = dados.isnull().sum()\n",
    "valores_nulos"
   ]
  },
  {
   "cell_type": "code",
   "execution_count": 7,
   "metadata": {
    "colab": {
     "base_uri": "https://localhost:8080/",
     "height": 34
    },
    "colab_type": "code",
    "executionInfo": {
     "elapsed": 2968,
     "status": "ok",
     "timestamp": 1594702769778,
     "user": {
      "displayName": "João Conte",
      "photoUrl": "https://lh3.googleusercontent.com/a-/AOh14GgHcLIcHrnZal8fGaieSjwdAY8UEr4TQc7BfW3S=s64",
      "userId": "14849391931925135559"
     },
     "user_tz": 180
    },
    "id": "28VvRhxuPxh-",
    "outputId": "680aa294-3d34-4836-eb77-aeb77ab2cbcb"
   },
   "outputs": [
    {
     "data": {
      "text/plain": [
       "(5152, 7)"
      ]
     },
     "execution_count": 7,
     "metadata": {
      "tags": []
     },
     "output_type": "execute_result"
    }
   ],
   "source": [
    "dados.shape"
   ]
  },
  {
   "cell_type": "markdown",
   "metadata": {
    "colab_type": "text",
    "id": "AcX-YFRTvKSB"
   },
   "source": [
    "\n",
    "---\n",
    "\n",
    "## 3. Processing Null Values\n",
    "\n",
    "How we could treated if have some null values? The first hypothesis who I have is that data are the mean of the values previous and next, that is in math equation:\n",
    "\n",
    "### $val_{i} = \\frac{val_{i-1} + val_{i+1}}{2}$\n",
    "\n",
    "First I will catch where that's null values are, and even I knowing that I'll use the close values to modeling I'll apply this concept in all columns to see the result, and to finish I'll sum the null values to see if I have some more one."
   ]
  },
  {
   "cell_type": "code",
   "execution_count": 8,
   "metadata": {
    "colab": {
     "base_uri": "https://localhost:8080/",
     "height": 170
    },
    "colab_type": "code",
    "executionInfo": {
     "elapsed": 2932,
     "status": "ok",
     "timestamp": 1594702769780,
     "user": {
      "displayName": "João Conte",
      "photoUrl": "https://lh3.googleusercontent.com/a-/AOh14GgHcLIcHrnZal8fGaieSjwdAY8UEr4TQc7BfW3S=s64",
      "userId": "14849391931925135559"
     },
     "user_tz": 180
    },
    "id": "fdaQmD23OiZN",
    "outputId": "8abf717a-5609-4fad-a354-393007bfcfa1"
   },
   "outputs": [
    {
     "data": {
      "text/plain": [
       "Int64Index([ 255,  260,  278,  300,  301,  334,  346,  347,  352,  367,  378,\n",
       "             392,  395,  439,  450,  464,  479,  488,  515,  516,  520,  521,\n",
       "             539,  550,  551,  563,  584,  607,  628,  656,  749,  776,  777,\n",
       "             781,  782,  825,  826,  859,  860,  868,  903,  917, 1037, 1038,\n",
       "            1042, 1043, 1080, 1081, 1114, 1122, 1124, 1158, 1179, 1221, 1246,\n",
       "            1261, 1270, 1299, 1304, 1571, 1594, 1595, 1628, 1633, 1639, 1672,\n",
       "            1732, 1757, 1772, 1781, 1784, 2434, 2553, 2827, 2838, 2845, 2862,\n",
       "            2864, 3004, 3005, 3006, 3015, 3036, 3061, 4569, 4828, 5071],\n",
       "           dtype='int64')"
      ]
     },
     "execution_count": 8,
     "metadata": {
      "tags": []
     },
     "output_type": "execute_result"
    }
   ],
   "source": [
    "dados_nulos = dados[dados['Close'].isnull() == True].index\n",
    "dados_nulos"
   ]
  },
  {
   "cell_type": "code",
   "execution_count": 9,
   "metadata": {
    "colab": {
     "base_uri": "https://localhost:8080/",
     "height": 102
    },
    "colab_type": "code",
    "executionInfo": {
     "elapsed": 2904,
     "status": "ok",
     "timestamp": 1594702769783,
     "user": {
      "displayName": "João Conte",
      "photoUrl": "https://lh3.googleusercontent.com/a-/AOh14GgHcLIcHrnZal8fGaieSjwdAY8UEr4TQc7BfW3S=s64",
      "userId": "14849391931925135559"
     },
     "user_tz": 180
    },
    "id": "0Cr-gjbsfYuj",
    "outputId": "337360c7-cd82-4157-94d5-41aa7c00d9d8"
   },
   "outputs": [
    {
     "name": "stderr",
     "output_type": "stream",
     "text": [
      "/usr/local/lib/python3.6/dist-packages/pandas/core/indexing.py:671: SettingWithCopyWarning: \n",
      "A value is trying to be set on a copy of a slice from a DataFrame\n",
      "\n",
      "See the caveats in the documentation: https://pandas.pydata.org/pandas-docs/stable/user_guide/indexing.html#returning-a-view-versus-a-copy\n",
      "  self._setitem_with_indexer(indexer, value)\n"
     ]
    }
   ],
   "source": [
    "for i in dados_nulos:\n",
    "    ope = ((dados['Open'].iloc[i-1] + dados['Open'].iloc[i-1]) / 2)\t\n",
    "    high = ((dados['High'].iloc[i-1] + dados['High'].iloc[i-1]) / 2)\t\n",
    "    low = ((dados['Low'].iloc[i-1] + dados['Low'].iloc[i-1]) / 2)\t\n",
    "    close = ((dados['Close'].iloc[i-1] + dados['Close'].iloc[i-1]) / 2)\n",
    "    aclose = ((dados['Adj Close'].iloc[i-1] + dados['Adj Close'].iloc[i-1]) / 2)\t\n",
    "    volume = ((dados['Volume'].iloc[i-1] + dados['Volume'].iloc[i-1]) / 2)\n",
    "\n",
    "    dados['Open'].iloc[i] = ope\n",
    "    dados['High'].iloc[i] = high\n",
    "    dados['Low'].iloc[i] = low\n",
    "    dados['Close'].iloc[i] = close\n",
    "    dados['Adj Close'].iloc[i] = aclose\n",
    "    dados['Volume'].iloc[i] = volume"
   ]
  },
  {
   "cell_type": "code",
   "execution_count": 10,
   "metadata": {
    "colab": {
     "base_uri": "https://localhost:8080/",
     "height": 153
    },
    "colab_type": "code",
    "executionInfo": {
     "elapsed": 2864,
     "status": "ok",
     "timestamp": 1594702769784,
     "user": {
      "displayName": "João Conte",
      "photoUrl": "https://lh3.googleusercontent.com/a-/AOh14GgHcLIcHrnZal8fGaieSjwdAY8UEr4TQc7BfW3S=s64",
      "userId": "14849391931925135559"
     },
     "user_tz": 180
    },
    "id": "XVVs-m_siWxI",
    "outputId": "9194c73f-2b23-4363-fd4d-bcc4bf470a73"
   },
   "outputs": [
    {
     "data": {
      "text/plain": [
       "Date         0\n",
       "Open         0\n",
       "High         0\n",
       "Low          0\n",
       "Close        0\n",
       "Adj Close    0\n",
       "Volume       0\n",
       "dtype: int64"
      ]
     },
     "execution_count": 10,
     "metadata": {
      "tags": []
     },
     "output_type": "execute_result"
    }
   ],
   "source": [
    "dados.isnull().sum()"
   ]
  },
  {
   "cell_type": "markdown",
   "metadata": {
    "colab_type": "text",
    "id": "V5cexWPWvPbU"
   },
   "source": [
    "\n",
    "\n",
    "---\n",
    "\n",
    "## 4. Dropping Unwanted Columns\n",
    "\n",
    "It's easy to see that we dont't have more null values.\n",
    "\n",
    "I want the Close values to modeling, let's drop all other columns, but the Volume column is attached to Close column so I can leave it to see the final result when I apply the MinMaxScaler with it and morover to see if this column will influence in our results.\n",
    "\n",
    "Doing it let's get the dates in a interval of 200 days and plot the graph of stock price in all period."
   ]
  },
  {
   "cell_type": "code",
   "execution_count": 11,
   "metadata": {
    "colab": {},
    "colab_type": "code",
    "executionInfo": {
     "elapsed": 2840,
     "status": "ok",
     "timestamp": 1594702769791,
     "user": {
      "displayName": "João Conte",
      "photoUrl": "https://lh3.googleusercontent.com/a-/AOh14GgHcLIcHrnZal8fGaieSjwdAY8UEr4TQc7BfW3S=s64",
      "userId": "14849391931925135559"
     },
     "user_tz": 180
    },
    "id": "KiVPnaZofndp"
   },
   "outputs": [],
   "source": [
    "dados.drop(['High', 'Low', 'Open', 'Adj Close'], axis = 1, inplace=True)"
   ]
  },
  {
   "cell_type": "code",
   "execution_count": 12,
   "metadata": {
    "colab": {},
    "colab_type": "code",
    "executionInfo": {
     "elapsed": 2819,
     "status": "ok",
     "timestamp": 1594702769793,
     "user": {
      "displayName": "João Conte",
      "photoUrl": "https://lh3.googleusercontent.com/a-/AOh14GgHcLIcHrnZal8fGaieSjwdAY8UEr4TQc7BfW3S=s64",
      "userId": "14849391931925135559"
     },
     "user_tz": 180
    },
    "id": "h0NdrA90ZaVO"
   },
   "outputs": [],
   "source": [
    "listofNum = list(filter(lambda i: i%200==0, [a for a in range(dados.shape[0])]))\n",
    "x = dados['Date'].iloc[listofNum]\n",
    "x = x.append(dados['Date'].tail(1))\n",
    "x = np.array(x)"
   ]
  },
  {
   "cell_type": "code",
   "execution_count": 13,
   "metadata": {
    "colab": {
     "base_uri": "https://localhost:8080/",
     "height": 590
    },
    "colab_type": "code",
    "executionInfo": {
     "elapsed": 3519,
     "status": "ok",
     "timestamp": 1594702770514,
     "user": {
      "displayName": "João Conte",
      "photoUrl": "https://lh3.googleusercontent.com/a-/AOh14GgHcLIcHrnZal8fGaieSjwdAY8UEr4TQc7BfW3S=s64",
      "userId": "14849391931925135559"
     },
     "user_tz": 180
    },
    "id": "hqUgRDr4fu8z",
    "outputId": "59073e05-e15f-4d07-e6c1-643f9bf33af4"
   },
   "outputs": [
    {
     "name": "stderr",
     "output_type": "stream",
     "text": [
      "/usr/local/lib/python3.6/dist-packages/ipykernel_launcher.py:3: MatplotlibDeprecationWarning: Adding an axes using the same arguments as a previous axes currently reuses the earlier instance.  In a future version, a new instance will always be created and returned.  Meanwhile, this warning can be suppressed, and the future behavior ensured, by passing a unique label to each axes instance.\n",
      "  This is separate from the ipykernel package so we can avoid doing imports until\n",
      "/usr/local/lib/python3.6/dist-packages/ipykernel_launcher.py:4: MatplotlibDeprecationWarning: Adding an axes using the same arguments as a previous axes currently reuses the earlier instance.  In a future version, a new instance will always be created and returned.  Meanwhile, this warning can be suppressed, and the future behavior ensured, by passing a unique label to each axes instance.\n",
      "  after removing the cwd from sys.path.\n"
     ]
    },
    {
     "data": {
      "image/png": "[encoded data removed]",
      "text/plain": [
       "<Figure size 864x576 with 1 Axes>"
      ]
     },
     "metadata": {
      "needs_background": "light",
      "tags": []
     },
     "output_type": "display_data"
    }
   ],
   "source": [
    "dados.plot(x='Date', y='Close', figsize=(12,8))   \n",
    "plt.xticks(x, rotation='vertical')\n",
    "plt.axes().yaxis.grid()\n",
    "plt.axes().xaxis.grid()\n",
    "plt.show()"
   ]
  },
  {
   "cell_type": "markdown",
   "metadata": {
    "colab_type": "text",
    "id": "nKvmTfDvvSKm"
   },
   "source": [
    "---\n",
    "\n",
    "## 5. Applying Normalizer\n",
    "\n",
    "That's a important step to modeling, because I'll normalize the data, or in other words, I'll range a data interval to data interval, in this case the interval will be between 0 than 1 and the function which be use is MinMaxScaler.\n",
    "\n",
    "By sklearn library definition: MinMaxScaler transform features by scaling each feature to a given range. This estimator scales and translates each feature individually such that it is in the given range on the training set, e.g. between zero and one.\n",
    "\n",
    "The transformation is given by:\n",
    "\n",
    "```python\n",
    "X_std = (X - X.min(axis=0)) / (X.max(axis=0) - X.min(axis=0))\n",
    "X_scaled = X_std * (max - min) + min\n",
    "```"
   ]
  },
  {
   "cell_type": "code",
   "execution_count": 14,
   "metadata": {
    "colab": {
     "base_uri": "https://localhost:8080/",
     "height": 204
    },
    "colab_type": "code",
    "executionInfo": {
     "elapsed": 3494,
     "status": "ok",
     "timestamp": 1594702770515,
     "user": {
      "displayName": "João Conte",
      "photoUrl": "https://lh3.googleusercontent.com/a-/AOh14GgHcLIcHrnZal8fGaieSjwdAY8UEr4TQc7BfW3S=s64",
      "userId": "14849391931925135559"
     },
     "user_tz": 180
    },
    "id": "l-i7eJm6L9jb",
    "outputId": "159fe235-1320-42cc-e6eb-5f145658666f"
   },
   "outputs": [
    {
     "data": {
      "text/html": [
       "<div>\n",
       "<style scoped>\n",
       "    .dataframe tbody tr th:only-of-type {\n",
       "        vertical-align: middle;\n",
       "    }\n",
       "\n",
       "    .dataframe tbody tr th {\n",
       "        vertical-align: top;\n",
       "    }\n",
       "\n",
       "    .dataframe thead th {\n",
       "        text-align: right;\n",
       "    }\n",
       "</style>\n",
       "<table border=\"1\" class=\"dataframe\">\n",
       "  <thead>\n",
       "    <tr style=\"text-align: right;\">\n",
       "      <th></th>\n",
       "      <th>Date</th>\n",
       "      <th>Close</th>\n",
       "      <th>Volume</th>\n",
       "    </tr>\n",
       "  </thead>\n",
       "  <tbody>\n",
       "    <tr>\n",
       "      <th>0</th>\n",
       "      <td>2000-01-03</td>\n",
       "      <td>0.024038</td>\n",
       "      <td>0.071490</td>\n",
       "    </tr>\n",
       "    <tr>\n",
       "      <th>1</th>\n",
       "      <td>2000-01-04</td>\n",
       "      <td>0.016426</td>\n",
       "      <td>0.083908</td>\n",
       "    </tr>\n",
       "    <tr>\n",
       "      <th>2</th>\n",
       "      <td>2000-01-05</td>\n",
       "      <td>0.022436</td>\n",
       "      <td>0.063690</td>\n",
       "    </tr>\n",
       "    <tr>\n",
       "      <th>3</th>\n",
       "      <td>2000-01-06</td>\n",
       "      <td>0.023637</td>\n",
       "      <td>0.160465</td>\n",
       "    </tr>\n",
       "    <tr>\n",
       "      <th>4</th>\n",
       "      <td>2000-01-07</td>\n",
       "      <td>0.023237</td>\n",
       "      <td>0.077961</td>\n",
       "    </tr>\n",
       "  </tbody>\n",
       "</table>\n",
       "</div>"
      ],
      "text/plain": [
       "        Date     Close    Volume\n",
       "0 2000-01-03  0.024038  0.071490\n",
       "1 2000-01-04  0.016426  0.083908\n",
       "2 2000-01-05  0.022436  0.063690\n",
       "3 2000-01-06  0.023637  0.160465\n",
       "4 2000-01-07  0.023237  0.077961"
      ]
     },
     "execution_count": 14,
     "metadata": {
      "tags": []
     },
     "output_type": "execute_result"
    }
   ],
   "source": [
    "date = dados['Date']\n",
    "x_val = dados[['Close','Volume']].values\n",
    "normalizer = MinMaxScaler(feature_range=(0,1))\n",
    "x_scaled = normalizer.fit_transform(x_val)\n",
    "data = pd.DataFrame(x_scaled)\n",
    "data = pd.concat([date, data], axis=1)\n",
    "data.columns = dados.columns\n",
    "data.head()"
   ]
  },
  {
   "cell_type": "code",
   "execution_count": 15,
   "metadata": {
    "colab": {
     "base_uri": "https://localhost:8080/",
     "height": 85
    },
    "colab_type": "code",
    "executionInfo": {
     "elapsed": 3472,
     "status": "ok",
     "timestamp": 1594702770516,
     "user": {
      "displayName": "João Conte",
      "photoUrl": "https://lh3.googleusercontent.com/a-/AOh14GgHcLIcHrnZal8fGaieSjwdAY8UEr4TQc7BfW3S=s64",
      "userId": "14849391931925135559"
     },
     "user_tz": 180
    },
    "id": "hC-T52ALmTgP",
    "outputId": "426fff77-526a-408a-ca6f-1d4519f05fe6"
   },
   "outputs": [
    {
     "data": {
      "text/plain": [
       "Date      datetime64[ns]\n",
       "Close            float64\n",
       "Volume           float64\n",
       "dtype: object"
      ]
     },
     "execution_count": 15,
     "metadata": {
      "tags": []
     },
     "output_type": "execute_result"
    }
   ],
   "source": [
    "dados.dtypes"
   ]
  },
  {
   "cell_type": "markdown",
   "metadata": {
    "colab_type": "text",
    "id": "WpGInuKtvUQ6"
   },
   "source": [
    "\n",
    "\n",
    "---\n",
    "\n",
    "## 6. Defining The First Target\n",
    "\n",
    "Here I'll define the the first target, but that's not just the first target as will the mainly predictor. In other words I want predict the close price, but instead I will predict the differente between the previouly than next price. To do it let's define a function which doing the diference amoung this values.\n",
    "\n",
    "So the diff() and shift() are native functions of Pandas, by pandas library definition:\n",
    "\n",
    "* **diff()**: Calculates the difference of a DataFrame element compared with another element in the DataFrame (default is the element in the same column of the previous row).\n",
    "\n",
    "* **shift()**: When freq is not passed, shift the index without realigning the data. If freq is passed (in this case, the index must be date or datetime, or it will raise a NotImplementedError), the index will be increased using the periods and the freq.\n",
    "\n",
    "That is I will calculate the difference enter the datas and returning that's values one line.\n",
    "\n",
    "After let's plot the result."
   ]
  },
  {
   "cell_type": "code",
   "execution_count": 16,
   "metadata": {
    "colab": {
     "base_uri": "https://localhost:8080/",
     "height": 590
    },
    "colab_type": "code",
    "executionInfo": {
     "elapsed": 4327,
     "status": "ok",
     "timestamp": 1594702771404,
     "user": {
      "displayName": "João Conte",
      "photoUrl": "https://lh3.googleusercontent.com/a-/AOh14GgHcLIcHrnZal8fGaieSjwdAY8UEr4TQc7BfW3S=s64",
      "userId": "14849391931925135559"
     },
     "user_tz": 180
    },
    "id": "Ybgo_EARgele",
    "outputId": "cd08ce47-0adc-439d-af76-b0fa2c1c106c"
   },
   "outputs": [
    {
     "name": "stderr",
     "output_type": "stream",
     "text": [
      "/usr/local/lib/python3.6/dist-packages/ipykernel_launcher.py:8: MatplotlibDeprecationWarning: Adding an axes using the same arguments as a previous axes currently reuses the earlier instance.  In a future version, a new instance will always be created and returned.  Meanwhile, this warning can be suppressed, and the future behavior ensured, by passing a unique label to each axes instance.\n",
      "  \n",
      "/usr/local/lib/python3.6/dist-packages/ipykernel_launcher.py:9: MatplotlibDeprecationWarning: Adding an axes using the same arguments as a previous axes currently reuses the earlier instance.  In a future version, a new instance will always be created and returned.  Meanwhile, this warning can be suppressed, and the future behavior ensured, by passing a unique label to each axes instance.\n",
      "  if __name__ == '__main__':\n"
     ]
    },
    {
     "data": {
      "image/png": "[encoded data removed]",
      "text/plain": [
       "<Figure size 864x576 with 1 Axes>"
      ]
     },
     "metadata": {
      "needs_background": "light",
      "tags": []
     },
     "output_type": "display_data"
    }
   ],
   "source": [
    "def target_diff(x):\n",
    "    return x.diff().shift(-1)\n",
    "\n",
    "data['Diff_close_next_day'] = target_diff(data['Close'])\n",
    "\n",
    "data.plot(x='Date', y='Diff_close_next_day', figsize=(12,8))   \n",
    "plt.xticks(x, rotation='vertical')\n",
    "plt.axes().yaxis.grid()\n",
    "plt.axes().xaxis.grid()\n",
    "plt.show()"
   ]
  },
  {
   "cell_type": "markdown",
   "metadata": {
    "colab_type": "text",
    "id": "53QoWhLY39he"
   },
   "source": [
    "\n",
    "\n",
    "---\n",
    "\n",
    "## 7. Deviding Dataset In Train And Valid Set\n",
    "\n",
    "I divided the values in any intervals but the best results are separating the values more to valid than train values. So let's do it and see the columns of dataset and the graph of results."
   ]
  },
  {
   "cell_type": "code",
   "execution_count": 17,
   "metadata": {
    "colab": {
     "base_uri": "https://localhost:8080/",
     "height": 34
    },
    "colab_type": "code",
    "executionInfo": {
     "elapsed": 4308,
     "status": "ok",
     "timestamp": 1594702771413,
     "user": {
      "displayName": "João Conte",
      "photoUrl": "https://lh3.googleusercontent.com/a-/AOh14GgHcLIcHrnZal8fGaieSjwdAY8UEr4TQc7BfW3S=s64",
      "userId": "14849391931925135559"
     },
     "user_tz": 180
    },
    "id": "-SJNihGDSAIK",
    "outputId": "e99c6838-2906-4959-9510-7ae0b214726f"
   },
   "outputs": [
    {
     "data": {
      "text/plain": [
       "((2400, 4), (2752, 4))"
      ]
     },
     "execution_count": 17,
     "metadata": {
      "tags": []
     },
     "output_type": "execute_result"
    }
   ],
   "source": [
    "train = data[dados['Date'] < '2009-05-21'].copy()\n",
    "valid = data[dados['Date'] >= '2009-05-21'].copy()\n",
    "valid_dates = valid['Date']\n",
    "train.shape, valid.shape"
   ]
  },
  {
   "cell_type": "code",
   "execution_count": 18,
   "metadata": {
    "colab": {
     "base_uri": "https://localhost:8080/",
     "height": 34
    },
    "colab_type": "code",
    "executionInfo": {
     "elapsed": 4282,
     "status": "ok",
     "timestamp": 1594702771415,
     "user": {
      "displayName": "João Conte",
      "photoUrl": "https://lh3.googleusercontent.com/a-/AOh14GgHcLIcHrnZal8fGaieSjwdAY8UEr4TQc7BfW3S=s64",
      "userId": "14849391931925135559"
     },
     "user_tz": 180
    },
    "id": "SSs8BjQ5oGvr",
    "outputId": "05323bf2-5217-4723-fc8a-0165513b110f"
   },
   "outputs": [
    {
     "data": {
      "text/plain": [
       "Index(['Date', 'Close', 'Volume', 'Diff_close_next_day'], dtype='object')"
      ]
     },
     "execution_count": 18,
     "metadata": {
      "tags": []
     },
     "output_type": "execute_result"
    }
   ],
   "source": [
    "valid.columns"
   ]
  },
  {
   "cell_type": "code",
   "execution_count": 19,
   "metadata": {
    "colab": {
     "base_uri": "https://localhost:8080/",
     "height": 553
    },
    "colab_type": "code",
    "executionInfo": {
     "elapsed": 4261,
     "status": "ok",
     "timestamp": 1594702771416,
     "user": {
      "displayName": "João Conte",
      "photoUrl": "https://lh3.googleusercontent.com/a-/AOh14GgHcLIcHrnZal8fGaieSjwdAY8UEr4TQc7BfW3S=s64",
      "userId": "14849391931925135559"
     },
     "user_tz": 180
    },
    "id": "kJBk2HvJoBbh",
    "outputId": "ec8fa8b5-e67c-4ed8-9bb0-f2f50768fd11"
   },
   "outputs": [
    {
     "name": "stderr",
     "output_type": "stream",
     "text": [
      "/usr/local/lib/python3.6/dist-packages/ipykernel_launcher.py:2: MatplotlibDeprecationWarning: Adding an axes using the same arguments as a previous axes currently reuses the earlier instance.  In a future version, a new instance will always be created and returned.  Meanwhile, this warning can be suppressed, and the future behavior ensured, by passing a unique label to each axes instance.\n",
      "  \n",
      "/usr/local/lib/python3.6/dist-packages/ipykernel_launcher.py:3: MatplotlibDeprecationWarning: Adding an axes using the same arguments as a previous axes currently reuses the earlier instance.  In a future version, a new instance will always be created and returned.  Meanwhile, this warning can be suppressed, and the future behavior ensured, by passing a unique label to each axes instance.\n",
      "  This is separate from the ipykernel package so we can avoid doing imports until\n"
     ]
    },
    {
     "data": {
      "image/png": "[encoded data removed]",
      "text/plain": [
       "<Figure size 864x576 with 1 Axes>"
      ]
     },
     "metadata": {
      "needs_background": "light",
      "tags": []
     },
     "output_type": "display_data"
    }
   ],
   "source": [
    "valid.plot(x='Date', y='Diff_close_next_day', figsize=(12,8))   \n",
    "plt.axes().yaxis.grid()\n",
    "plt.axes().xaxis.grid()\n",
    "plt.show()"
   ]
  },
  {
   "cell_type": "markdown",
   "metadata": {
    "colab_type": "text",
    "id": "kEKlx_D_5ARH"
   },
   "source": [
    "\n",
    "\n",
    "---\n",
    "\n",
    "## 8. Baseline\n",
    "\n",
    "Here I'll define the first baseline, that baseline will be the difference between the current price than the price of next day.\n",
    "\n",
    "After it I will see the errro of baseline and that's the error should will overcome."
   ]
  },
  {
   "cell_type": "code",
   "execution_count": 20,
   "metadata": {
    "colab": {},
    "colab_type": "code",
    "executionInfo": {
     "elapsed": 4238,
     "status": "ok",
     "timestamp": 1594702771420,
     "user": {
      "displayName": "João Conte",
      "photoUrl": "https://lh3.googleusercontent.com/a-/AOh14GgHcLIcHrnZal8fGaieSjwdAY8UEr4TQc7BfW3S=s64",
      "userId": "14849391931925135559"
     },
     "user_tz": 180
    },
    "id": "BTQDIhaJSfnS"
   },
   "outputs": [],
   "source": [
    "y_treino = train['Close']\n",
    "y_valid = valid['Close']"
   ]
  },
  {
   "cell_type": "code",
   "execution_count": 21,
   "metadata": {
    "colab": {},
    "colab_type": "code",
    "executionInfo": {
     "elapsed": 4224,
     "status": "ok",
     "timestamp": 1594702771422,
     "user": {
      "displayName": "João Conte",
      "photoUrl": "https://lh3.googleusercontent.com/a-/AOh14GgHcLIcHrnZal8fGaieSjwdAY8UEr4TQc7BfW3S=s64",
      "userId": "14849391931925135559"
     },
     "user_tz": 180
    },
    "id": "y_ErTucCkgOo"
   },
   "outputs": [],
   "source": [
    "#baseline\n",
    "baseline_treino = train['Close'].shift(1)\n",
    "baseline_valid = valid['Close'].shift(1)\n",
    "train['baseline'] = baseline_treino\n",
    "valid['baseline'] = baseline_valid"
   ]
  },
  {
   "cell_type": "code",
   "execution_count": 22,
   "metadata": {
    "colab": {
     "base_uri": "https://localhost:8080/",
     "height": 34
    },
    "colab_type": "code",
    "executionInfo": {
     "elapsed": 4199,
     "status": "ok",
     "timestamp": 1594702771423,
     "user": {
      "displayName": "João Conte",
      "photoUrl": "https://lh3.googleusercontent.com/a-/AOh14GgHcLIcHrnZal8fGaieSjwdAY8UEr4TQc7BfW3S=s64",
      "userId": "14849391931925135559"
     },
     "user_tz": 180
    },
    "id": "yaIv-tigSbqe",
    "outputId": "0830b63f-8bdc-4078-cddc-8e93b0d09776"
   },
   "outputs": [
    {
     "name": "stdout",
     "output_type": "stream",
     "text": [
      "Erro: 0.74 %\n"
     ]
    }
   ],
   "source": [
    "print(\"Erro:\",round(np.sqrt(mean_squared_log_error(y_valid[baseline_valid.notnull()], \n",
    "                            baseline_valid[baseline_valid.notnull()]))*100, 2),\"%\")"
   ]
  },
  {
   "cell_type": "markdown",
   "metadata": {
    "colab_type": "text",
    "id": "upS1YI0xvt67"
   },
   "source": [
    "\n",
    "\n",
    "---\n",
    "\n",
    "## 9. Defining More Targets\n",
    "\n",
    "Below will be define some values in dataframe to helping to predict better the values.\n",
    "\n",
    "### 9.1. Seasonal variables\n",
    "\n",
    "Them are some values based on date values, so I'll use the Pandas library method know by dt to get the day, the month and the week of month and after it let's drop the baseline value to dataframe.\n"
   ]
  },
  {
   "cell_type": "code",
   "execution_count": 23,
   "metadata": {
    "colab": {},
    "colab_type": "code",
    "executionInfo": {
     "elapsed": 4171,
     "status": "ok",
     "timestamp": 1594702771424,
     "user": {
      "displayName": "João Conte",
      "photoUrl": "https://lh3.googleusercontent.com/a-/AOh14GgHcLIcHrnZal8fGaieSjwdAY8UEr4TQc7BfW3S=s64",
      "userId": "14849391931925135559"
     },
     "user_tz": 180
    },
    "id": "vTb4Y3lSTwe8"
   },
   "outputs": [],
   "source": [
    "train['Day'] = train['Date'].dt.day\n",
    "train['Mouth'] = train['Date'].dt.month\n",
    "train['Weeks_day'] = train['Date'].dt.weekday\n",
    "train.drop('baseline', axis = 1, inplace=True)"
   ]
  },
  {
   "cell_type": "code",
   "execution_count": 24,
   "metadata": {
    "colab": {},
    "colab_type": "code",
    "executionInfo": {
     "elapsed": 4147,
     "status": "ok",
     "timestamp": 1594702771426,
     "user": {
      "displayName": "João Conte",
      "photoUrl": "https://lh3.googleusercontent.com/a-/AOh14GgHcLIcHrnZal8fGaieSjwdAY8UEr4TQc7BfW3S=s64",
      "userId": "14849391931925135559"
     },
     "user_tz": 180
    },
    "id": "tah2VQHITveO"
   },
   "outputs": [],
   "source": [
    "valid['Day'] = valid['Date'].dt.day\n",
    "valid['Mouth'] = valid['Date'].dt.month\n",
    "valid['Weeks_day'] = valid['Date'].dt.weekday\n",
    "valid.drop('baseline', axis = 1, inplace=True)"
   ]
  },
  {
   "cell_type": "markdown",
   "metadata": {
    "colab_type": "text",
    "id": "HQi-1sz9vv4C"
   },
   "source": [
    "\n",
    "\n",
    "---\n",
    "\n",
    "### 9.2. Lag value ($Y_{t}-1$)\n",
    "The lag value it's the value of serie in previous period, in this case the lag is the value of close in previous period, and I'll apply it in 7 days consecutively.\n"
   ]
  },
  {
   "cell_type": "code",
   "execution_count": 25,
   "metadata": {
    "colab": {},
    "colab_type": "code",
    "executionInfo": {
     "elapsed": 4123,
     "status": "ok",
     "timestamp": 1594702771427,
     "user": {
      "displayName": "João Conte",
      "photoUrl": "https://lh3.googleusercontent.com/a-/AOh14GgHcLIcHrnZal8fGaieSjwdAY8UEr4TQc7BfW3S=s64",
      "userId": "14849391931925135559"
     },
     "user_tz": 180
    },
    "id": "GrIKWaSagOZ5"
   },
   "outputs": [],
   "source": [
    "for i in range(0, 7):\n",
    "    train['Average_close_price_{}'.format(i)] = train['Close'].shift(i)\n",
    "    valid['Average_close_price_{}'.format(i)] = valid['Close'].shift(i)"
   ]
  },
  {
   "cell_type": "markdown",
   "metadata": {
    "colab_type": "text",
    "id": "Ke0zanv-vxLt"
   },
   "source": [
    "\n",
    "\n",
    "---\n",
    "\n",
    "\n",
    "### 9.3. Difference of lag ($(Y_{t}-1) - (Y_{t}-2)$)\n",
    "It's exactly what's the name said the difference between the previously values. In this case I'll get the 6 days because the first will be zero.\n"
   ]
  },
  {
   "cell_type": "code",
   "execution_count": 26,
   "metadata": {
    "colab": {},
    "colab_type": "code",
    "executionInfo": {
     "elapsed": 4103,
     "status": "ok",
     "timestamp": 1594702771429,
     "user": {
      "displayName": "João Conte",
      "photoUrl": "https://lh3.googleusercontent.com/a-/AOh14GgHcLIcHrnZal8fGaieSjwdAY8UEr4TQc7BfW3S=s64",
      "userId": "14849391931925135559"
     },
     "user_tz": 180
    },
    "id": "z8UCL0imtTq6"
   },
   "outputs": [],
   "source": [
    "for i in range(1, 7):\n",
    "    train['Diff_avarage_close_price_{}'.format(i)] = train['Close'].diff(i)\n",
    "    valid['Diff_avarage_close_price_{}'.format(i)] = valid['Close'].diff(i)"
   ]
  },
  {
   "cell_type": "markdown",
   "metadata": {
    "colab_type": "text",
    "id": "0loo_im2vyoV"
   },
   "source": [
    "\n",
    "---\n",
    "\n",
    "\n",
    "### 9.4. Moving average \n",
    "It's one statistic value number of values previously, in this case will be the average of values in previous days. \n",
    "The rolling in pandas create two columns with the group and the index, with this I'll need reset that's index.\n",
    "By definition of library:\n",
    "\n",
    "* **rolling**: Provide rolling window calculations.\n",
    "\n",
    "In this case: $\\frac{\\sum_{n=2}^{7} Y_{n}}{n}$"
   ]
  },
  {
   "cell_type": "code",
   "execution_count": 27,
   "metadata": {
    "colab": {},
    "colab_type": "code",
    "executionInfo": {
     "elapsed": 4521,
     "status": "ok",
     "timestamp": 1594702771871,
     "user": {
      "displayName": "João Conte",
      "photoUrl": "https://lh3.googleusercontent.com/a-/AOh14GgHcLIcHrnZal8fGaieSjwdAY8UEr4TQc7BfW3S=s64",
      "userId": "14849391931925135559"
     },
     "user_tz": 180
    },
    "id": "cTBLe_DIt1WS"
   },
   "outputs": [],
   "source": [
    "for i in range(2, 7):\n",
    "    train['Moving_avarage_close_price_{}_days'.format(i)] = train['Close'].rolling(i).mean().reset_index(level=0, drop=True)\n",
    "    valid['Moving_avarage_close_price_{}_days'.format(i)] = valid['Close'].rolling(i).mean().reset_index(level=0, drop=True)"
   ]
  },
  {
   "cell_type": "markdown",
   "metadata": {
    "colab_type": "text",
    "id": "D2V-6cMBv0Sw"
   },
   "source": [
    "\n",
    "\n",
    "---\n",
    "\n",
    "## 10. Finishing the data\n",
    "\n",
    "First of all it's important drop all not a number or null values. So I did it first and I'm dropping the Date column which is not more necessary to training model and the Close column, since the Avarage Close Price in day 0 is equals it.\n"
   ]
  },
  {
   "cell_type": "code",
   "execution_count": 28,
   "metadata": {
    "colab": {},
    "colab_type": "code",
    "executionInfo": {
     "elapsed": 4496,
     "status": "ok",
     "timestamp": 1594702771872,
     "user": {
      "displayName": "João Conte",
      "photoUrl": "https://lh3.googleusercontent.com/a-/AOh14GgHcLIcHrnZal8fGaieSjwdAY8UEr4TQc7BfW3S=s64",
      "userId": "14849391931925135559"
     },
     "user_tz": 180
    },
    "id": "LH9uc7O1xGnS"
   },
   "outputs": [],
   "source": [
    "train = train.dropna()\n",
    "valid = valid.dropna()"
   ]
  },
  {
   "cell_type": "code",
   "execution_count": 29,
   "metadata": {
    "colab": {
     "base_uri": "https://localhost:8080/",
     "height": 102
    },
    "colab_type": "code",
    "executionInfo": {
     "elapsed": 4443,
     "status": "ok",
     "timestamp": 1594702771873,
     "user": {
      "displayName": "João Conte",
      "photoUrl": "https://lh3.googleusercontent.com/a-/AOh14GgHcLIcHrnZal8fGaieSjwdAY8UEr4TQc7BfW3S=s64",
      "userId": "14849391931925135559"
     },
     "user_tz": 180
    },
    "id": "2mTHgIQ0tzQu",
    "outputId": "694d491f-921f-4582-e326-4d4fac8eac81"
   },
   "outputs": [
    {
     "name": "stderr",
     "output_type": "stream",
     "text": [
      "/usr/local/lib/python3.6/dist-packages/pandas/core/frame.py:3997: SettingWithCopyWarning: \n",
      "A value is trying to be set on a copy of a slice from a DataFrame\n",
      "\n",
      "See the caveats in the documentation: https://pandas.pydata.org/pandas-docs/stable/user_guide/indexing.html#returning-a-view-versus-a-copy\n",
      "  errors=errors,\n"
     ]
    }
   ],
   "source": [
    "train.drop(['Date', 'Close'], axis = 1, inplace=True)\n",
    "valid.drop(['Date', 'Close'], axis=1, inplace=True)"
   ]
  },
  {
   "cell_type": "code",
   "execution_count": 30,
   "metadata": {
    "colab": {
     "base_uri": "https://localhost:8080/",
     "height": 224
    },
    "colab_type": "code",
    "executionInfo": {
     "elapsed": 4419,
     "status": "ok",
     "timestamp": 1594702771875,
     "user": {
      "displayName": "João Conte",
      "photoUrl": "https://lh3.googleusercontent.com/a-/AOh14GgHcLIcHrnZal8fGaieSjwdAY8UEr4TQc7BfW3S=s64",
      "userId": "14849391931925135559"
     },
     "user_tz": 180
    },
    "id": "bV5aUQoLgOln",
    "outputId": "c09cb9b6-2c39-4f20-c1e7-fe87f0ea5dff"
   },
   "outputs": [
    {
     "data": {
      "text/html": [
       "<div>\n",
       "<style scoped>\n",
       "    .dataframe tbody tr th:only-of-type {\n",
       "        vertical-align: middle;\n",
       "    }\n",
       "\n",
       "    .dataframe tbody tr th {\n",
       "        vertical-align: top;\n",
       "    }\n",
       "\n",
       "    .dataframe thead th {\n",
       "        text-align: right;\n",
       "    }\n",
       "</style>\n",
       "<table border=\"1\" class=\"dataframe\">\n",
       "  <thead>\n",
       "    <tr style=\"text-align: right;\">\n",
       "      <th></th>\n",
       "      <th>Volume</th>\n",
       "      <th>Diff_close_next_day</th>\n",
       "      <th>Day</th>\n",
       "      <th>Mouth</th>\n",
       "      <th>Weeks_day</th>\n",
       "      <th>Average_close_price_0</th>\n",
       "      <th>Average_close_price_1</th>\n",
       "      <th>Average_close_price_2</th>\n",
       "      <th>Average_close_price_3</th>\n",
       "      <th>Average_close_price_4</th>\n",
       "      <th>Average_close_price_5</th>\n",
       "      <th>Average_close_price_6</th>\n",
       "      <th>Diff_avarage_close_price_1</th>\n",
       "      <th>Diff_avarage_close_price_2</th>\n",
       "      <th>Diff_avarage_close_price_3</th>\n",
       "      <th>Diff_avarage_close_price_4</th>\n",
       "      <th>Diff_avarage_close_price_5</th>\n",
       "      <th>Diff_avarage_close_price_6</th>\n",
       "      <th>Moving_avarage_close_price_2_days</th>\n",
       "      <th>Moving_avarage_close_price_3_days</th>\n",
       "      <th>Moving_avarage_close_price_4_days</th>\n",
       "      <th>Moving_avarage_close_price_5_days</th>\n",
       "      <th>Moving_avarage_close_price_6_days</th>\n",
       "    </tr>\n",
       "  </thead>\n",
       "  <tbody>\n",
       "    <tr>\n",
       "      <th>6</th>\n",
       "      <td>0.051961</td>\n",
       "      <td>-0.001602</td>\n",
       "      <td>11</td>\n",
       "      <td>1</td>\n",
       "      <td>1</td>\n",
       "      <td>0.025640</td>\n",
       "      <td>0.026041</td>\n",
       "      <td>0.023237</td>\n",
       "      <td>0.023637</td>\n",
       "      <td>0.022436</td>\n",
       "      <td>0.016426</td>\n",
       "      <td>0.024038</td>\n",
       "      <td>-0.000401</td>\n",
       "      <td>0.002403</td>\n",
       "      <td>0.002003</td>\n",
       "      <td>0.003205</td>\n",
       "      <td>0.009214</td>\n",
       "      <td>0.001602</td>\n",
       "      <td>0.025841</td>\n",
       "      <td>0.024973</td>\n",
       "      <td>0.024639</td>\n",
       "      <td>0.024198</td>\n",
       "      <td>0.022903</td>\n",
       "    </tr>\n",
       "    <tr>\n",
       "      <th>7</th>\n",
       "      <td>0.028858</td>\n",
       "      <td>-0.001602</td>\n",
       "      <td>12</td>\n",
       "      <td>1</td>\n",
       "      <td>2</td>\n",
       "      <td>0.024038</td>\n",
       "      <td>0.025640</td>\n",
       "      <td>0.026041</td>\n",
       "      <td>0.023237</td>\n",
       "      <td>0.023637</td>\n",
       "      <td>0.022436</td>\n",
       "      <td>0.016426</td>\n",
       "      <td>-0.001602</td>\n",
       "      <td>-0.002003</td>\n",
       "      <td>0.000801</td>\n",
       "      <td>0.000401</td>\n",
       "      <td>0.001602</td>\n",
       "      <td>0.007612</td>\n",
       "      <td>0.024839</td>\n",
       "      <td>0.025240</td>\n",
       "      <td>0.024739</td>\n",
       "      <td>0.024519</td>\n",
       "      <td>0.024172</td>\n",
       "    </tr>\n",
       "    <tr>\n",
       "      <th>8</th>\n",
       "      <td>0.073263</td>\n",
       "      <td>0.000400</td>\n",
       "      <td>13</td>\n",
       "      <td>1</td>\n",
       "      <td>3</td>\n",
       "      <td>0.022436</td>\n",
       "      <td>0.024038</td>\n",
       "      <td>0.025640</td>\n",
       "      <td>0.026041</td>\n",
       "      <td>0.023237</td>\n",
       "      <td>0.023637</td>\n",
       "      <td>0.022436</td>\n",
       "      <td>-0.001602</td>\n",
       "      <td>-0.003205</td>\n",
       "      <td>-0.003606</td>\n",
       "      <td>-0.000801</td>\n",
       "      <td>-0.001201</td>\n",
       "      <td>0.000000</td>\n",
       "      <td>0.023237</td>\n",
       "      <td>0.024038</td>\n",
       "      <td>0.024539</td>\n",
       "      <td>0.024278</td>\n",
       "      <td>0.024172</td>\n",
       "    </tr>\n",
       "    <tr>\n",
       "      <th>9</th>\n",
       "      <td>0.074208</td>\n",
       "      <td>0.002804</td>\n",
       "      <td>14</td>\n",
       "      <td>1</td>\n",
       "      <td>4</td>\n",
       "      <td>0.022836</td>\n",
       "      <td>0.022436</td>\n",
       "      <td>0.024038</td>\n",
       "      <td>0.025640</td>\n",
       "      <td>0.026041</td>\n",
       "      <td>0.023237</td>\n",
       "      <td>0.023637</td>\n",
       "      <td>0.000400</td>\n",
       "      <td>-0.001202</td>\n",
       "      <td>-0.002804</td>\n",
       "      <td>-0.003205</td>\n",
       "      <td>-0.000401</td>\n",
       "      <td>-0.000801</td>\n",
       "      <td>0.022636</td>\n",
       "      <td>0.023103</td>\n",
       "      <td>0.023737</td>\n",
       "      <td>0.024198</td>\n",
       "      <td>0.024038</td>\n",
       "    </tr>\n",
       "    <tr>\n",
       "      <th>10</th>\n",
       "      <td>0.035776</td>\n",
       "      <td>-0.002003</td>\n",
       "      <td>17</td>\n",
       "      <td>1</td>\n",
       "      <td>0</td>\n",
       "      <td>0.025640</td>\n",
       "      <td>0.022836</td>\n",
       "      <td>0.022436</td>\n",
       "      <td>0.024038</td>\n",
       "      <td>0.025640</td>\n",
       "      <td>0.026041</td>\n",
       "      <td>0.023237</td>\n",
       "      <td>0.002804</td>\n",
       "      <td>0.003205</td>\n",
       "      <td>0.001602</td>\n",
       "      <td>0.000000</td>\n",
       "      <td>-0.000401</td>\n",
       "      <td>0.002403</td>\n",
       "      <td>0.024238</td>\n",
       "      <td>0.023637</td>\n",
       "      <td>0.023737</td>\n",
       "      <td>0.024118</td>\n",
       "      <td>0.024439</td>\n",
       "    </tr>\n",
       "  </tbody>\n",
       "</table>\n",
       "</div>"
      ],
      "text/plain": [
       "      Volume  ...  Moving_avarage_close_price_6_days\n",
       "6   0.051961  ...                           0.022903\n",
       "7   0.028858  ...                           0.024172\n",
       "8   0.073263  ...                           0.024172\n",
       "9   0.074208  ...                           0.024038\n",
       "10  0.035776  ...                           0.024439\n",
       "\n",
       "[5 rows x 23 columns]"
      ]
     },
     "execution_count": 30,
     "metadata": {
      "tags": []
     },
     "output_type": "execute_result"
    }
   ],
   "source": [
    "train.head()"
   ]
  },
  {
   "cell_type": "markdown",
   "metadata": {
    "colab_type": "text",
    "id": "rKsk7CjRv284"
   },
   "source": [
    "\n",
    "\n",
    "---\n",
    "\n",
    "\n",
    "## 11. First Model - Random Forest Regressor\n",
    "\n",
    "To start the create of first model the idea will be to separate in validation and training bases. How are predicting the difference between close prices at next day them are dropped of X value and set just in y value.\n",
    "\n",
    "\n",
    "That's model already been explained, the parameters can be explained with Sklearn library definition:\n",
    "\n",
    "* **n_jobsint** (default=None): The number of jobs to run in parallel. fit, predict, decision_path and apply are all parallelized over the trees. None means 1 unless in a joblib.parallel_backend context. -1 means using all processors.\n",
    "* **random_stateint** (or RandomState, default=None): Controls both the randomness of the bootstrapping of the samples used when building trees (if bootstrap=True) and the sampling of the features to consider when looking for the best split at each node (if max_features < n_features).\n",
    "* **n_estimatorsint** (default=100): The number of trees in the forest.\n",
    "* **min_samples_leafint** (or float, default=1): The minimum number of samples required to be at a leaf node. A split point at any depth will only be considered if it leaves at least min_samples_leaf training samples in each of the left and right branches. \n",
    "* **max_features{“auto”, “sqrt”, “log2”}** (int or float, default=”auto”): The number of features to consider when looking for the best split.\n",
    "\n",
    "With it I defined the parameters of model, consecutively I set the training with fit and get the predict of the model.\n",
    "\n",
    "Well, as I want to predict the close price I need add them in prediction values, that's I did:\n",
    "\n",
    "```python\n",
    "p_final = X_valid['Average_close_price_0'] + p # Average close price in day 0 is equals at the close price themself.\n",
    "```\n",
    "\n",
    "And finally I print the error value and plot the graphs of prediction and real values to compare them."
   ]
  },
  {
   "cell_type": "code",
   "execution_count": 31,
   "metadata": {
    "colab": {},
    "colab_type": "code",
    "executionInfo": {
     "elapsed": 4396,
     "status": "ok",
     "timestamp": 1594702771876,
     "user": {
      "displayName": "João Conte",
      "photoUrl": "https://lh3.googleusercontent.com/a-/AOh14GgHcLIcHrnZal8fGaieSjwdAY8UEr4TQc7BfW3S=s64",
      "userId": "14849391931925135559"
     },
     "user_tz": 180
    },
    "id": "UJozTkKlvGN3"
   },
   "outputs": [],
   "source": [
    "X_train, y_train = train.drop('Diff_close_next_day', axis=1), train['Diff_close_next_day']\n",
    "X_valid, y_valid = valid.drop('Diff_close_next_day', axis=1), valid['Diff_close_next_day']\n",
    "y_valid_f = X_valid['Average_close_price_0'] + y_valid"
   ]
  },
  {
   "cell_type": "code",
   "execution_count": 32,
   "metadata": {
    "colab": {
     "base_uri": "https://localhost:8080/",
     "height": 34
    },
    "colab_type": "code",
    "executionInfo": {
     "elapsed": 14832,
     "status": "ok",
     "timestamp": 1594702782331,
     "user": {
      "displayName": "João Conte",
      "photoUrl": "https://lh3.googleusercontent.com/a-/AOh14GgHcLIcHrnZal8fGaieSjwdAY8UEr4TQc7BfW3S=s64",
      "userId": "14849391931925135559"
     },
     "user_tz": 180
    },
    "id": "tquSufrbwDXP",
    "outputId": "59c98b0b-16d9-45fd-84a5-92d0104019b7"
   },
   "outputs": [
    {
     "name": "stdout",
     "output_type": "stream",
     "text": [
      "Error: 0.67 %\n"
     ]
    }
   ],
   "source": [
    "model = RandomForestRegressor(n_jobs=-1, \n",
    "                              random_state=0,\n",
    "                              n_estimators=1500,\n",
    "                              min_samples_leaf=264,\n",
    "                              max_features='auto')\n",
    "\n",
    "model.fit(X_train, y_train)\n",
    "p = model.predict(X_valid)\n",
    "\n",
    "p_final = X_valid['Average_close_price_0'] + p\n",
    "print(\"Error:\",round(np.sqrt(mean_squared_log_error(y_valid_f, p_final))*100, 2),\"%\")"
   ]
  },
  {
   "cell_type": "code",
   "execution_count": 33,
   "metadata": {
    "colab": {
     "base_uri": "https://localhost:8080/",
     "height": 500
    },
    "colab_type": "code",
    "executionInfo": {
     "elapsed": 15261,
     "status": "ok",
     "timestamp": 1594702782782,
     "user": {
      "displayName": "João Conte",
      "photoUrl": "https://lh3.googleusercontent.com/a-/AOh14GgHcLIcHrnZal8fGaieSjwdAY8UEr4TQc7BfW3S=s64",
      "userId": "14849391931925135559"
     },
     "user_tz": 180
    },
    "id": "tcLFDjTUwW_c",
    "outputId": "7a084083-d18a-49cc-af70-42391f780da1"
   },
   "outputs": [
    {
     "data": {
      "text/plain": [
       "<matplotlib.legend.Legend at 0x7fb27d12ef28>"
      ]
     },
     "execution_count": 33,
     "metadata": {
      "tags": []
     },
     "output_type": "execute_result"
    },
    {
     "data": {
      "image/png": "[encoded data removed]",
      "text/plain": [
       "<Figure size 864x576 with 2 Axes>"
      ]
     },
     "metadata": {
      "needs_background": "light",
      "tags": []
     },
     "output_type": "display_data"
    }
   ],
   "source": [
    "fig, ax = pylab.subplots(1, 1, figsize = (12, 8))\n",
    "ax.plot(y_valid_f, label='Y')\n",
    "axt = ax.twinx()\n",
    "axt.plot(p_final, color='orange', alpha=0.7, label='Previsões')\n",
    "axt.legend()"
   ]
  },
  {
   "cell_type": "markdown",
   "metadata": {
    "colab_type": "text",
    "id": "7acCxfWjVxvJ"
   },
   "source": [
    "---\n",
    "\n",
    "## 12. Second Model - Light GBM Regressor\n",
    "\n",
    "That's model was already explained too, so let's which are parameters will be used and see the results. In the Light GBM library:\n",
    "\n",
    "* **n_jobs** (int, optional (default=-1)): Number of parallel threads.\n",
    "* **random_state** (int, RandomState object or None, optional (default=None)): Random number seed. \n",
    "* **n_estimators** (int, optional (default=100)): Number of boosted trees to fit.\n",
    "* **learning_rate** (float, optional (default=0.1)): Boosting learning rate.\n",
    "* **num_leaves** (int, optional (default=31)): Maximum tree leaves for base learners.\n",
    "* **subsample** (float, optional (default=1.)): Subsample ratio of the training instance.\n",
    "* **subsample_freq** (int, optional (default=0)): Frequence of subsample, <=0 means no enable.\n",
    "\n",
    "So, let's see the results"
   ]
  },
  {
   "cell_type": "code",
   "execution_count": 34,
   "metadata": {
    "colab": {
     "base_uri": "https://localhost:8080/",
     "height": 34
    },
    "colab_type": "code",
    "executionInfo": {
     "elapsed": 16229,
     "status": "ok",
     "timestamp": 1594702783773,
     "user": {
      "displayName": "João Conte",
      "photoUrl": "https://lh3.googleusercontent.com/a-/AOh14GgHcLIcHrnZal8fGaieSjwdAY8UEr4TQc7BfW3S=s64",
      "userId": "14849391931925135559"
     },
     "user_tz": 180
    },
    "id": "1hlD3DOhDQtl",
    "outputId": "5a9e0396-60d9-4c98-ec73-c2d90ec557f0"
   },
   "outputs": [
    {
     "name": "stdout",
     "output_type": "stream",
     "text": [
      "Error: 0.63 %\n"
     ]
    }
   ],
   "source": [
    "model = lgb.LGBMRegressor(n_jobs=-1, \n",
    "                          random_state=0, \n",
    "                          n_estimators=1000, \n",
    "                          learning_rate=0.0001, \n",
    "                          num_leaves=2**4, \n",
    "                          subsample=0.1, \n",
    "                          subsample_freq=1)\n",
    "model.fit(X_train, y_train)\n",
    "p = model.predict(X_valid)\n",
    "p_final = X_valid['Average_close_price_0'] + p\n",
    "\n",
    "print(\"Error:\",round(np.sqrt(mean_squared_log_error(y_valid_f, p_final))*100, 2),\"%\")"
   ]
  },
  {
   "cell_type": "code",
   "execution_count": 35,
   "metadata": {
    "colab": {
     "base_uri": "https://localhost:8080/",
     "height": 500
    },
    "colab_type": "code",
    "executionInfo": {
     "elapsed": 17399,
     "status": "ok",
     "timestamp": 1594702784973,
     "user": {
      "displayName": "João Conte",
      "photoUrl": "https://lh3.googleusercontent.com/a-/AOh14GgHcLIcHrnZal8fGaieSjwdAY8UEr4TQc7BfW3S=s64",
      "userId": "14849391931925135559"
     },
     "user_tz": 180
    },
    "id": "eKOw1GDyDQp8",
    "outputId": "04e9a5ac-e2c2-4715-f1c5-34a19e70df6d"
   },
   "outputs": [
    {
     "data": {
      "text/plain": [
       "<matplotlib.legend.Legend at 0x7fb27e97ef60>"
      ]
     },
     "execution_count": 35,
     "metadata": {
      "tags": []
     },
     "output_type": "execute_result"
    },
    {
     "data": {
      "image/png": "[encoded data removed]",
      "text/plain": [
       "<Figure size 864x576 with 2 Axes>"
      ]
     },
     "metadata": {
      "needs_background": "light",
      "tags": []
     },
     "output_type": "display_data"
    }
   ],
   "source": [
    "fig, ax = pylab.subplots(1, 1, figsize=(12,8))\n",
    "ax.plot(y_valid_f, label = 'Y')\n",
    "axt = ax.twinx()\n",
    "axt.plot(p_final, color = 'orange', alpha = 0.7, label='Previsões')\n",
    "axt.legend()"
   ]
  },
  {
   "cell_type": "markdown",
   "metadata": {
    "colab_type": "text",
    "id": "EXD4keAHv5cq"
   },
   "source": [
    "\n",
    "\n",
    "---\n",
    "\n",
    "## 13. Selecting the best targets\n",
    "Well as we can see LightGBM it was better than Random Forest, but I can tuning more the model select the bests targets to run that's model, so for it I'll defining that I want the maximum of columns, if necessary, or less to get the best error value."
   ]
  },
  {
   "cell_type": "code",
   "execution_count": 36,
   "metadata": {
    "colab": {
     "base_uri": "https://localhost:8080/",
     "height": 649
    },
    "colab_type": "code",
    "executionInfo": {
     "elapsed": 104211,
     "status": "ok",
     "timestamp": 1594702871823,
     "user": {
      "displayName": "João Conte",
      "photoUrl": "https://lh3.googleusercontent.com/a-/AOh14GgHcLIcHrnZal8fGaieSjwdAY8UEr4TQc7BfW3S=s64",
      "userId": "14849391931925135559"
     },
     "user_tz": 180
    },
    "id": "VkeiP3Nz9sxQ",
    "outputId": "ff8a9a62-31de-4b8b-c0d7-a3b990a55d8b"
   },
   "outputs": [
    {
     "name": "stdout",
     "output_type": "stream",
     "text": [
      "Melhor Variável: Diff_avarage_close_price_2 - Erro: 0.6308\n",
      "\n",
      "['Diff_avarage_close_price_2']\n",
      "\n",
      "Melhor Variável: Diff_avarage_close_price_6 - Erro: 0.6303\n",
      "\n",
      "['Diff_avarage_close_price_2', 'Diff_avarage_close_price_6']\n",
      "\n",
      "Melhor Variável: Volume - Erro: 0.6301\n",
      "\n",
      "['Diff_avarage_close_price_2', 'Diff_avarage_close_price_6', 'Volume']\n",
      "\n",
      "Melhor Variável: Average_close_price_0 - Erro: 0.6300\n",
      "\n",
      "['Diff_avarage_close_price_2', 'Diff_avarage_close_price_6', 'Volume', 'Average_close_price_0']\n",
      "\n",
      "Melhor Variável: Moving_avarage_close_price_6_days - Erro: 0.6300\n",
      "\n",
      "['Diff_avarage_close_price_2', 'Diff_avarage_close_price_6', 'Volume', 'Average_close_price_0', 'Moving_avarage_close_price_6_days']\n",
      "\n",
      "Melhor Variável: Mouth - Erro: 0.6299\n",
      "\n",
      "['Diff_avarage_close_price_2', 'Diff_avarage_close_price_6', 'Volume', 'Average_close_price_0', 'Moving_avarage_close_price_6_days', 'Mouth']\n",
      "\n",
      "Melhor Variável: Diff_avarage_close_price_5 - Erro: 0.6298\n",
      "\n",
      "['Diff_avarage_close_price_2', 'Diff_avarage_close_price_6', 'Volume', 'Average_close_price_0', 'Moving_avarage_close_price_6_days', 'Mouth', 'Diff_avarage_close_price_5']\n",
      "\n",
      "Melhor Variável: Day - Erro: 0.6298\n",
      "\n",
      "['Diff_avarage_close_price_2', 'Diff_avarage_close_price_6', 'Volume', 'Average_close_price_0', 'Moving_avarage_close_price_6_days', 'Mouth', 'Diff_avarage_close_price_5', 'Day']\n",
      "\n",
      "Melhor Variável: Diff_avarage_close_price_1 - Erro: 0.6298\n",
      "\n",
      "['Diff_avarage_close_price_2', 'Diff_avarage_close_price_6', 'Volume', 'Average_close_price_0', 'Moving_avarage_close_price_6_days', 'Mouth', 'Diff_avarage_close_price_5', 'Day', 'Diff_avarage_close_price_1']\n",
      "\n"
     ]
    }
   ],
   "source": [
    "accept = []\n",
    "vl_low_error = 10000\n",
    "\n",
    "for step in range(X_train.shape[0]):\n",
    "    var_low_error = None\n",
    "    for var in X_train.columns:\n",
    "        if var in accept:\n",
    "            continue\n",
    "        model.fit(X_train[accept+[var]], y_train)\n",
    "        p = model.predict(X_valid[accept+[var]])\n",
    "\n",
    "        p_final = X_valid['Average_close_price_0'] + p\n",
    "        y_valid_f = X_valid['Average_close_price_0'] + y_valid\n",
    "\n",
    "        error = np.sqrt(mean_squared_log_error(y_valid_f, p_final)) * 100\n",
    "\n",
    "        if error < vl_low_error:\n",
    "            var_low_error = var\n",
    "            vl_low_error = error\n",
    "    if var_low_error is None:\n",
    "        break\n",
    "    accept.append(var_low_error)\n",
    "        \n",
    "    print(\"Melhor Variável: {} - Erro: {:.4f}\\n\".format(var_low_error, vl_low_error))\n",
    "    print(accept)\n",
    "    print()"
   ]
  },
  {
   "cell_type": "markdown",
   "metadata": {
    "colab_type": "text",
    "id": "9ua-XvX9v8BM"
   },
   "source": [
    "\n",
    "\n",
    "---\n",
    "\n",
    "## 14. Final results\n",
    "Now, with the best model and the bests target let's see the result of my predictor and comment later."
   ]
  },
  {
   "cell_type": "code",
   "execution_count": 37,
   "metadata": {
    "colab": {},
    "colab_type": "code",
    "executionInfo": {
     "elapsed": 104151,
     "status": "ok",
     "timestamp": 1594702871840,
     "user": {
      "displayName": "João Conte",
      "photoUrl": "https://lh3.googleusercontent.com/a-/AOh14GgHcLIcHrnZal8fGaieSjwdAY8UEr4TQc7BfW3S=s64",
      "userId": "14849391931925135559"
     },
     "user_tz": 180
    },
    "id": "inKSMOcWVler"
   },
   "outputs": [],
   "source": [
    "accept.append('Diff_close_next_day')"
   ]
  },
  {
   "cell_type": "code",
   "execution_count": 38,
   "metadata": {
    "colab": {
     "base_uri": "https://localhost:8080/",
     "height": 224
    },
    "colab_type": "code",
    "executionInfo": {
     "elapsed": 104130,
     "status": "ok",
     "timestamp": 1594702871844,
     "user": {
      "displayName": "João Conte",
      "photoUrl": "https://lh3.googleusercontent.com/a-/AOh14GgHcLIcHrnZal8fGaieSjwdAY8UEr4TQc7BfW3S=s64",
      "userId": "14849391931925135559"
     },
     "user_tz": 180
    },
    "id": "2JZQRm8gVpdJ",
    "outputId": "950bdc05-39d8-484f-96e1-467adac86f34"
   },
   "outputs": [
    {
     "data": {
      "text/html": [
       "<div>\n",
       "<style scoped>\n",
       "    .dataframe tbody tr th:only-of-type {\n",
       "        vertical-align: middle;\n",
       "    }\n",
       "\n",
       "    .dataframe tbody tr th {\n",
       "        vertical-align: top;\n",
       "    }\n",
       "\n",
       "    .dataframe thead th {\n",
       "        text-align: right;\n",
       "    }\n",
       "</style>\n",
       "<table border=\"1\" class=\"dataframe\">\n",
       "  <thead>\n",
       "    <tr style=\"text-align: right;\">\n",
       "      <th></th>\n",
       "      <th>Diff_avarage_close_price_2</th>\n",
       "      <th>Diff_avarage_close_price_6</th>\n",
       "      <th>Volume</th>\n",
       "      <th>Average_close_price_0</th>\n",
       "      <th>Moving_avarage_close_price_6_days</th>\n",
       "      <th>Mouth</th>\n",
       "      <th>Diff_avarage_close_price_5</th>\n",
       "      <th>Day</th>\n",
       "      <th>Diff_avarage_close_price_1</th>\n",
       "      <th>Diff_close_next_day</th>\n",
       "    </tr>\n",
       "  </thead>\n",
       "  <tbody>\n",
       "    <tr>\n",
       "      <th>6</th>\n",
       "      <td>0.002403</td>\n",
       "      <td>0.001602</td>\n",
       "      <td>0.051961</td>\n",
       "      <td>0.025640</td>\n",
       "      <td>0.022903</td>\n",
       "      <td>1</td>\n",
       "      <td>0.009214</td>\n",
       "      <td>11</td>\n",
       "      <td>-0.000401</td>\n",
       "      <td>-0.001602</td>\n",
       "    </tr>\n",
       "    <tr>\n",
       "      <th>7</th>\n",
       "      <td>-0.002003</td>\n",
       "      <td>0.007612</td>\n",
       "      <td>0.028858</td>\n",
       "      <td>0.024038</td>\n",
       "      <td>0.024172</td>\n",
       "      <td>1</td>\n",
       "      <td>0.001602</td>\n",
       "      <td>12</td>\n",
       "      <td>-0.001602</td>\n",
       "      <td>-0.001602</td>\n",
       "    </tr>\n",
       "    <tr>\n",
       "      <th>8</th>\n",
       "      <td>-0.003205</td>\n",
       "      <td>0.000000</td>\n",
       "      <td>0.073263</td>\n",
       "      <td>0.022436</td>\n",
       "      <td>0.024172</td>\n",
       "      <td>1</td>\n",
       "      <td>-0.001201</td>\n",
       "      <td>13</td>\n",
       "      <td>-0.001602</td>\n",
       "      <td>0.000400</td>\n",
       "    </tr>\n",
       "    <tr>\n",
       "      <th>9</th>\n",
       "      <td>-0.001202</td>\n",
       "      <td>-0.000801</td>\n",
       "      <td>0.074208</td>\n",
       "      <td>0.022836</td>\n",
       "      <td>0.024038</td>\n",
       "      <td>1</td>\n",
       "      <td>-0.000401</td>\n",
       "      <td>14</td>\n",
       "      <td>0.000400</td>\n",
       "      <td>0.002804</td>\n",
       "    </tr>\n",
       "    <tr>\n",
       "      <th>10</th>\n",
       "      <td>0.003205</td>\n",
       "      <td>0.002403</td>\n",
       "      <td>0.035776</td>\n",
       "      <td>0.025640</td>\n",
       "      <td>0.024439</td>\n",
       "      <td>1</td>\n",
       "      <td>-0.000401</td>\n",
       "      <td>17</td>\n",
       "      <td>0.002804</td>\n",
       "      <td>-0.002003</td>\n",
       "    </tr>\n",
       "  </tbody>\n",
       "</table>\n",
       "</div>"
      ],
      "text/plain": [
       "    Diff_avarage_close_price_2  ...  Diff_close_next_day\n",
       "6                     0.002403  ...            -0.001602\n",
       "7                    -0.002003  ...            -0.001602\n",
       "8                    -0.003205  ...             0.000400\n",
       "9                    -0.001202  ...             0.002804\n",
       "10                    0.003205  ...            -0.002003\n",
       "\n",
       "[5 rows x 10 columns]"
      ]
     },
     "execution_count": 38,
     "metadata": {
      "tags": []
     },
     "output_type": "execute_result"
    }
   ],
   "source": [
    "train = train[accept]\n",
    "train.head()"
   ]
  },
  {
   "cell_type": "code",
   "execution_count": 39,
   "metadata": {
    "colab": {},
    "colab_type": "code",
    "executionInfo": {
     "elapsed": 104103,
     "status": "ok",
     "timestamp": 1594702871848,
     "user": {
      "displayName": "João Conte",
      "photoUrl": "https://lh3.googleusercontent.com/a-/AOh14GgHcLIcHrnZal8fGaieSjwdAY8UEr4TQc7BfW3S=s64",
      "userId": "14849391931925135559"
     },
     "user_tz": 180
    },
    "id": "4XTn9MIiWD_Z"
   },
   "outputs": [],
   "source": [
    "valid = valid[accept]"
   ]
  },
  {
   "cell_type": "code",
   "execution_count": 40,
   "metadata": {
    "colab": {},
    "colab_type": "code",
    "executionInfo": {
     "elapsed": 104084,
     "status": "ok",
     "timestamp": 1594702871851,
     "user": {
      "displayName": "João Conte",
      "photoUrl": "https://lh3.googleusercontent.com/a-/AOh14GgHcLIcHrnZal8fGaieSjwdAY8UEr4TQc7BfW3S=s64",
      "userId": "14849391931925135559"
     },
     "user_tz": 180
    },
    "id": "zAfYesDlWHEQ"
   },
   "outputs": [],
   "source": [
    "X_train, y_train = train.drop('Diff_close_next_day', axis=1), train['Diff_close_next_day']\n",
    "X_valid, y_valid = valid.drop('Diff_close_next_day', axis=1), valid['Diff_close_next_day']"
   ]
  },
  {
   "cell_type": "code",
   "execution_count": 41,
   "metadata": {
    "colab": {},
    "colab_type": "code",
    "executionInfo": {
     "elapsed": 104068,
     "status": "ok",
     "timestamp": 1594702871854,
     "user": {
      "displayName": "João Conte",
      "photoUrl": "https://lh3.googleusercontent.com/a-/AOh14GgHcLIcHrnZal8fGaieSjwdAY8UEr4TQc7BfW3S=s64",
      "userId": "14849391931925135559"
     },
     "user_tz": 180
    },
    "id": "ICZF5kV8rKfW"
   },
   "outputs": [],
   "source": [
    "y_valid_f = X_valid['Average_close_price_0'] + y_valid"
   ]
  },
  {
   "cell_type": "code",
   "execution_count": 42,
   "metadata": {
    "colab": {
     "base_uri": "https://localhost:8080/",
     "height": 34
    },
    "colab_type": "code",
    "executionInfo": {
     "elapsed": 104679,
     "status": "ok",
     "timestamp": 1594702872483,
     "user": {
      "displayName": "João Conte",
      "photoUrl": "https://lh3.googleusercontent.com/a-/AOh14GgHcLIcHrnZal8fGaieSjwdAY8UEr4TQc7BfW3S=s64",
      "userId": "14849391931925135559"
     },
     "user_tz": 180
    },
    "id": "3nAFRA-NWPPt",
    "outputId": "cde6162d-632d-4dc8-f54c-4ee363b66f88"
   },
   "outputs": [
    {
     "name": "stdout",
     "output_type": "stream",
     "text": [
      "Erro: 0.6298 %\n"
     ]
    }
   ],
   "source": [
    "model.fit(X_train, y_train)\n",
    "p = model.predict(X_valid)\n",
    "p_final = X_valid['Average_close_price_0'] + p\n",
    "\n",
    "print(\"Erro:\",round(np.sqrt(mean_squared_log_error(y_valid_f, p_final))*100, 4),\"%\")"
   ]
  },
  {
   "cell_type": "code",
   "execution_count": 43,
   "metadata": {
    "colab": {
     "base_uri": "https://localhost:8080/",
     "height": 500
    },
    "colab_type": "code",
    "executionInfo": {
     "elapsed": 105235,
     "status": "ok",
     "timestamp": 1594702873064,
     "user": {
      "displayName": "João Conte",
      "photoUrl": "https://lh3.googleusercontent.com/a-/AOh14GgHcLIcHrnZal8fGaieSjwdAY8UEr4TQc7BfW3S=s64",
      "userId": "14849391931925135559"
     },
     "user_tz": 180
    },
    "id": "eMbFkbibWsHc",
    "outputId": "b6ab9edf-f3d3-4491-ed33-53fe98280908"
   },
   "outputs": [
    {
     "data": {
      "text/plain": [
       "<matplotlib.legend.Legend at 0x7fb27cfd50b8>"
      ]
     },
     "execution_count": 43,
     "metadata": {
      "tags": []
     },
     "output_type": "execute_result"
    },
    {
     "data": {
      "image/png": "[encoded data removed]",
      "text/plain": [
       "<Figure size 864x576 with 2 Axes>"
      ]
     },
     "metadata": {
      "needs_background": "light",
      "tags": []
     },
     "output_type": "display_data"
    }
   ],
   "source": [
    "fig, ax = pylab.subplots(1, 1, figsize=(12,8))\n",
    "ax.plot(y_valid_f, label = 'Y')\n",
    "axt = ax.twinx()\n",
    "axt.plot(p_final, color = 'orange', alpha = 0.7, label='Previsões')\n",
    "axt.legend()"
   ]
  },
  {
   "cell_type": "markdown",
   "metadata": {
    "colab_type": "text",
    "id": "AocRGEWGpP9e"
   },
   "source": [
    "## 15. Conclusions\n",
    "\n",
    "First of all I need thank you that read this notebook hitherto, I don't revised the english of this notebook but I did my best to avoid the errors and I know them exists, sorry.\n",
    "\n",
    "That said I'll comment the results. So as we could see the results are very good with the error of ≅ 0.63% and that's good to see how the values of stock price run.\n",
    "\n",
    "One thing which can be doing is tunning the hiperparameters of model, maybe create a autoML to testing a interval of amount of paramters could be helping to geta best model.\n",
    "\n",
    "To test a other approach I'll create a neural network to run the same enter values and see the results.\n",
    "\n",
    "If want to contact me it's just add me on <a href=\"https://www.linkedin.com/in/lejoaoconte/\" target=\"_blank\">LinkedIn</a>. The libraries using in this project are:\n",
    "\n",
    "* <a href=\"https://scikit-learn.org/stable/\" target=\"_blank\">Sklearn</a>\n",
    "* <a href=\"https://matplotlib.org/\" target=\"_blank\">Matplotlib</a>\n",
    "* <a href=\"https://pandas.pydata.org/\" target=\"_blank\">Pandas</a>\n",
    "* <a href=\"https://numpy.org/\" target=\"_blank\">Numpy</a>\n",
    "* <a href=\"https://lightgbm.readthedocs.io/\" target=\"_blank\">LightGBM</a>\n",
    "\n",
    "---\n",
    "\n",
    "# Thank you!"
   ]
  },
  {
   "cell_type": "code",
   "execution_count": null,
   "metadata": {},
   "outputs": [],
   "source": []
  }
 ],
 "metadata": {
  "colab": {
   "collapsed_sections": [],
   "name": "Análise de Dados e Modelos de Machine Learning.ipynb",
   "provenance": []
  },
  "kernelspec": {
   "display_name": "Python 3",
   "language": "python",
   "name": "python3"
  },
  "language_info": {
   "codemirror_mode": {
    "name": "ipython",
    "version": 3
   },
   "file_extension": ".py",
   "mimetype": "text/x-python",
   "name": "python",
   "nbconvert_exporter": "python",
   "pygments_lexer": "ipython3",
   "version": "3.8.2"
  }
 },
 "nbformat": 4,
 "nbformat_minor": 1
}
